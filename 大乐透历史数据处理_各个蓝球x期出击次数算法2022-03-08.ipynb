{
 "cells": [
  {
   "cell_type": "markdown",
   "metadata": {},
   "source": [
    "# 大乐透历史数据处理_蓝球均线算法2022-03-08\n"
   ]
  },
  {
   "cell_type": "code",
   "execution_count": 1,
   "metadata": {},
   "outputs": [
    {
     "data": {
      "text/plain": [
       "'2022-03-27 01:02:13'"
      ]
     },
     "execution_count": 1,
     "metadata": {},
     "output_type": "execute_result"
    }
   ],
   "source": [
    "# 导入模块\n",
    "import pandas as pd\n",
    "import numpy as np\n",
    "import time\n",
    "# 取当前日期和时间\n",
    "date = (time.strftime(\"%Y-%m-%d %H:%M:%S\", time.localtime()))\n",
    "date"
   ]
  },
  {
   "cell_type": "code",
   "execution_count": 2,
   "metadata": {},
   "outputs": [],
   "source": [
    "# 导入排列组合计算函数\n",
    "#调用scipy科学计算包中计算排列组合（permutation and combination）的模块\n",
    "from scipy.special import perm, comb\n",
    "#调用 itertools库（内置库） 获取排列组合的全部情况数\n",
    "from itertools import permutations, combinations"
   ]
  },
  {
   "cell_type": "code",
   "execution_count": 3,
   "metadata": {},
   "outputs": [],
   "source": [
    "# # 举例\n",
    "# c = comb(12,2)  #组合\n",
    "# print(c)\n",
    "# p = perm(12,2) #排列\n",
    "# print(p)\n",
    "# list(combinations(['a','b','c'],2))"
   ]
  },
  {
   "cell_type": "code",
   "execution_count": 4,
   "metadata": {},
   "outputs": [
    {
     "data": {
      "text/plain": [
       "[1, 2, 3, 4, 5, 6, 7, 8, 9, 10, 11, 12]"
      ]
     },
     "execution_count": 4,
     "metadata": {},
     "output_type": "execute_result"
    }
   ],
   "source": [
    "# 生成所有12个红球的列表数据赋值给a12\n",
    "a12 = []\n",
    "for i in range(1,13):\n",
    "    a12.append(i)\n",
    "a12"
   ]
  },
  {
   "cell_type": "code",
   "execution_count": 5,
   "metadata": {},
   "outputs": [
    {
     "name": "stdout",
     "output_type": "stream",
     "text": [
      "      期号  L1  L2\n",
      "0  22032   1   5\n",
      "1  22031   4   8\n",
      "2  22030   1   9\n",
      "3  22029  10  12\n",
      "4  22028   1   7\n"
     ]
    },
    {
     "data": {
      "text/plain": [
       "(3983, 3)"
      ]
     },
     "execution_count": 5,
     "metadata": {},
     "output_type": "execute_result"
    }
   ],
   "source": [
    "path0 = '大乐透总历史开奖号码表.xlsx'\n",
    "df = pd.read_excel(path0)\n",
    "dfa = df.iloc[:,[0,7,8]]\n",
    "print(dfa.head())\n",
    "dfa.shape"
   ]
  },
  {
   "cell_type": "code",
   "execution_count": 6,
   "metadata": {},
   "outputs": [],
   "source": [
    "# 按期号升序排序,DataFrame按指定列排序_升序\n",
    "dfa1 = dfa.sort_values(by='期号')\n",
    "# DataFrame重新建索引\n",
    "dfb = dfa1.reset_index().drop('index', axis = 1)\n",
    "# 排序后存盘excel文件\n",
    "dfb.to_excel('大乐透历史数据蓝球数据_升序.xlsx', index=False)\n"
   ]
  },
  {
   "cell_type": "code",
   "execution_count": 7,
   "metadata": {},
   "outputs": [
    {
     "data": {
      "text/html": [
       "<div>\n",
       "<style scoped>\n",
       "    .dataframe tbody tr th:only-of-type {\n",
       "        vertical-align: middle;\n",
       "    }\n",
       "\n",
       "    .dataframe tbody tr th {\n",
       "        vertical-align: top;\n",
       "    }\n",
       "\n",
       "    .dataframe thead th {\n",
       "        text-align: right;\n",
       "    }\n",
       "</style>\n",
       "<table border=\"1\" class=\"dataframe\">\n",
       "  <thead>\n",
       "    <tr style=\"text-align: right;\">\n",
       "      <th></th>\n",
       "      <th>期号</th>\n",
       "      <th>L1</th>\n",
       "      <th>L2</th>\n",
       "      <th>球号</th>\n",
       "      <th>次数</th>\n",
       "    </tr>\n",
       "  </thead>\n",
       "  <tbody>\n",
       "    <tr>\n",
       "      <th>0</th>\n",
       "      <td>7001</td>\n",
       "      <td>4</td>\n",
       "      <td>11</td>\n",
       "      <td>0</td>\n",
       "      <td>0</td>\n",
       "    </tr>\n",
       "    <tr>\n",
       "      <th>1</th>\n",
       "      <td>7002</td>\n",
       "      <td>5</td>\n",
       "      <td>12</td>\n",
       "      <td>0</td>\n",
       "      <td>0</td>\n",
       "    </tr>\n",
       "    <tr>\n",
       "      <th>2</th>\n",
       "      <td>7003</td>\n",
       "      <td>1</td>\n",
       "      <td>6</td>\n",
       "      <td>0</td>\n",
       "      <td>0</td>\n",
       "    </tr>\n",
       "    <tr>\n",
       "      <th>3</th>\n",
       "      <td>7004</td>\n",
       "      <td>2</td>\n",
       "      <td>4</td>\n",
       "      <td>0</td>\n",
       "      <td>0</td>\n",
       "    </tr>\n",
       "    <tr>\n",
       "      <th>4</th>\n",
       "      <td>7005</td>\n",
       "      <td>2</td>\n",
       "      <td>11</td>\n",
       "      <td>0</td>\n",
       "      <td>0</td>\n",
       "    </tr>\n",
       "  </tbody>\n",
       "</table>\n",
       "</div>"
      ],
      "text/plain": [
       "     期号  L1  L2  球号  次数\n",
       "0  7001   4  11   0   0\n",
       "1  7002   5  12   0   0\n",
       "2  7003   1   6   0   0\n",
       "3  7004   2   4   0   0\n",
       "4  7005   2  11   0   0"
      ]
     },
     "execution_count": 7,
     "metadata": {},
     "output_type": "execute_result"
    }
   ],
   "source": [
    "df1 = pd.read_excel('大乐透历史数据蓝球数据_升序.xlsx')\n",
    "df1['球号'] = 0\n",
    "df1['次数'] = 0\n",
    "path = '大乐透历史数据_各个蓝球x期出击次数基本数据表_升序.xlsx'\n",
    "df1.to_excel(path, index=False)\n",
    "df1.head()"
   ]
  },
  {
   "cell_type": "code",
   "execution_count": 8,
   "metadata": {},
   "outputs": [
    {
     "data": {
      "text/html": [
       "<div>\n",
       "<style scoped>\n",
       "    .dataframe tbody tr th:only-of-type {\n",
       "        vertical-align: middle;\n",
       "    }\n",
       "\n",
       "    .dataframe tbody tr th {\n",
       "        vertical-align: top;\n",
       "    }\n",
       "\n",
       "    .dataframe thead th {\n",
       "        text-align: right;\n",
       "    }\n",
       "</style>\n",
       "<table border=\"1\" class=\"dataframe\">\n",
       "  <thead>\n",
       "    <tr style=\"text-align: right;\">\n",
       "      <th></th>\n",
       "      <th>期号</th>\n",
       "      <th>L1</th>\n",
       "      <th>L2</th>\n",
       "      <th>球号</th>\n",
       "      <th>次数</th>\n",
       "    </tr>\n",
       "  </thead>\n",
       "  <tbody>\n",
       "    <tr>\n",
       "      <th>0</th>\n",
       "      <td>7001</td>\n",
       "      <td>4</td>\n",
       "      <td>11</td>\n",
       "      <td>0</td>\n",
       "      <td>0</td>\n",
       "    </tr>\n",
       "    <tr>\n",
       "      <th>1</th>\n",
       "      <td>7002</td>\n",
       "      <td>5</td>\n",
       "      <td>12</td>\n",
       "      <td>0</td>\n",
       "      <td>0</td>\n",
       "    </tr>\n",
       "    <tr>\n",
       "      <th>2</th>\n",
       "      <td>7003</td>\n",
       "      <td>1</td>\n",
       "      <td>6</td>\n",
       "      <td>0</td>\n",
       "      <td>0</td>\n",
       "    </tr>\n",
       "    <tr>\n",
       "      <th>3</th>\n",
       "      <td>7004</td>\n",
       "      <td>2</td>\n",
       "      <td>4</td>\n",
       "      <td>0</td>\n",
       "      <td>0</td>\n",
       "    </tr>\n",
       "    <tr>\n",
       "      <th>4</th>\n",
       "      <td>7005</td>\n",
       "      <td>2</td>\n",
       "      <td>11</td>\n",
       "      <td>0</td>\n",
       "      <td>0</td>\n",
       "    </tr>\n",
       "    <tr>\n",
       "      <th>...</th>\n",
       "      <td>...</td>\n",
       "      <td>...</td>\n",
       "      <td>...</td>\n",
       "      <td>...</td>\n",
       "      <td>...</td>\n",
       "    </tr>\n",
       "    <tr>\n",
       "      <th>3978</th>\n",
       "      <td>22028</td>\n",
       "      <td>1</td>\n",
       "      <td>7</td>\n",
       "      <td>0</td>\n",
       "      <td>0</td>\n",
       "    </tr>\n",
       "    <tr>\n",
       "      <th>3979</th>\n",
       "      <td>22029</td>\n",
       "      <td>10</td>\n",
       "      <td>12</td>\n",
       "      <td>0</td>\n",
       "      <td>0</td>\n",
       "    </tr>\n",
       "    <tr>\n",
       "      <th>3980</th>\n",
       "      <td>22030</td>\n",
       "      <td>1</td>\n",
       "      <td>9</td>\n",
       "      <td>0</td>\n",
       "      <td>0</td>\n",
       "    </tr>\n",
       "    <tr>\n",
       "      <th>3981</th>\n",
       "      <td>22031</td>\n",
       "      <td>4</td>\n",
       "      <td>8</td>\n",
       "      <td>0</td>\n",
       "      <td>0</td>\n",
       "    </tr>\n",
       "    <tr>\n",
       "      <th>3982</th>\n",
       "      <td>22032</td>\n",
       "      <td>1</td>\n",
       "      <td>5</td>\n",
       "      <td>0</td>\n",
       "      <td>0</td>\n",
       "    </tr>\n",
       "  </tbody>\n",
       "</table>\n",
       "<p>3983 rows × 5 columns</p>\n",
       "</div>"
      ],
      "text/plain": [
       "         期号  L1  L2  球号  次数\n",
       "0      7001   4  11   0   0\n",
       "1      7002   5  12   0   0\n",
       "2      7003   1   6   0   0\n",
       "3      7004   2   4   0   0\n",
       "4      7005   2  11   0   0\n",
       "...     ...  ..  ..  ..  ..\n",
       "3978  22028   1   7   0   0\n",
       "3979  22029  10  12   0   0\n",
       "3980  22030   1   9   0   0\n",
       "3981  22031   4   8   0   0\n",
       "3982  22032   1   5   0   0\n",
       "\n",
       "[3983 rows x 5 columns]"
      ]
     },
     "execution_count": 8,
     "metadata": {},
     "output_type": "execute_result"
    }
   ],
   "source": [
    "df1"
   ]
  },
  {
   "cell_type": "code",
   "execution_count": 9,
   "metadata": {
    "scrolled": true
   },
   "outputs": [
    {
     "name": "stdout",
     "output_type": "stream",
     "text": [
      "### 日期时间： 2022-03-27 01:02:13\n",
      "球号: 1 D:\\python_work\\大乐透算法\\大乐透历史数据处理_各个蓝球13期出击次数算法\\1号球移动13期出击次数数据_MAX=10.xlsx\n",
      "球号: 2 D:\\python_work\\大乐透算法\\大乐透历史数据处理_各个蓝球13期出击次数算法\\2号球移动13期出击次数数据_MAX=10.xlsx\n",
      "球号: 3 D:\\python_work\\大乐透算法\\大乐透历史数据处理_各个蓝球13期出击次数算法\\3号球移动13期出击次数数据_MAX=10.xlsx\n",
      "球号: 4 D:\\python_work\\大乐透算法\\大乐透历史数据处理_各个蓝球13期出击次数算法\\4号球移动13期出击次数数据_MAX=8.xlsx\n",
      "球号: 5 D:\\python_work\\大乐透算法\\大乐透历史数据处理_各个蓝球13期出击次数算法\\5号球移动13期出击次数数据_MAX=8.xlsx\n",
      "球号: 6 D:\\python_work\\大乐透算法\\大乐透历史数据处理_各个蓝球13期出击次数算法\\6号球移动13期出击次数数据_MAX=9.xlsx\n",
      "球号: 7 D:\\python_work\\大乐透算法\\大乐透历史数据处理_各个蓝球13期出击次数算法\\7号球移动13期出击次数数据_MAX=10.xlsx\n",
      "球号: 8 D:\\python_work\\大乐透算法\\大乐透历史数据处理_各个蓝球13期出击次数算法\\8号球移动13期出击次数数据_MAX=10.xlsx\n",
      "球号: 9 D:\\python_work\\大乐透算法\\大乐透历史数据处理_各个蓝球13期出击次数算法\\9号球移动13期出击次数数据_MAX=10.xlsx\n",
      "球号: 10 D:\\python_work\\大乐透算法\\大乐透历史数据处理_各个蓝球13期出击次数算法\\10号球移动13期出击次数数据_MAX=9.xlsx\n",
      "球号: 11 D:\\python_work\\大乐透算法\\大乐透历史数据处理_各个蓝球13期出击次数算法\\11号球移动13期出击次数数据_MAX=9.xlsx\n",
      "球号: 12 D:\\python_work\\大乐透算法\\大乐透历史数据处理_各个蓝球13期出击次数算法\\12号球移动13期出击次数数据_MAX=8.xlsx\n",
      "END ================================================================================ END\n"
     ]
    }
   ],
   "source": [
    "# 读入大乐透历史数据蓝球均线数据_升序.xlsx为df1a\n",
    "df1a = pd.read_excel(path)\n",
    "# 生成所有12个蓝球的列表数据赋值给a12\n",
    "a12 = []\n",
    "for i in range(1,13):\n",
    "    a12.append(i)\n",
    "# # 生成12取2的球号组合\n",
    "# lx_2 = list(combinations(a12, 2))\n",
    "# dlx_2 = pd.DataFrame(lx_2)\n",
    "\n",
    "# 计算df1a对应的每x期的移动出击次数线数据\n",
    "# 计算移动每个x期中各个蓝球出击次数\n",
    "print(\"### 日期时间：\", date)\n",
    "x = 13\n",
    "\n",
    "for ii in range(len(a12)):\n",
    "# for ii in range(3): \n",
    "    df1a.球号 = a12[ii]\n",
    "    df1a['次数'] = 0\n",
    "\n",
    "    for m in range(x,df1a.shape[0]):        \n",
    "        a = 0\n",
    "        bb=0\n",
    "        for i1 in range(x):\n",
    "            i = m+(i1-x)\n",
    "            h1 = df1a.loc[i,'L1']\n",
    "            h2 = df1a.loc[i,'L2']\n",
    "                        \n",
    "            if a12[ii]==h1 or a12[ii]==h2:\n",
    "                a=a+1\n",
    "            #print(a, bb)\n",
    "            if a>=1:                \n",
    "                bb = bb + 1\n",
    "                a = 0\n",
    "            else:\n",
    "                a = 0\n",
    "                \n",
    "        #df1a['次数'][i] = bb\n",
    "        df1a.loc[[i],['次数']] = bb\n",
    "        #print('球号组合：', df1a['球号组合'][i], '次数：', df1a['次数'][i])\n",
    "    \n",
    "    path1 = 'D:\\\\python_work\\\\大乐透算法\\\\大乐透历史数据处理_各个蓝球'+str(x)+'期出击次数算法\\\\'+str(a12[ii])+'号球移动'+str(x)+'期出击次数数据_MAX='+str(df1a.次数.max())+'.xlsx'\n",
    "    print('球号:', a12[ii], path1)\n",
    "    df1a.to_excel(path1, index=False)\n",
    "\n",
    "    if ii==0:\n",
    "        df1b = df1a.copy()\n",
    "    else:\n",
    "        # 合并连接二个DataFrame        \n",
    "        df1b = pd.concat([df1b, df1a])\n",
    "\n",
    "path2 = 'D:\\\\python_work\\\\大乐透算法\\\\大乐透历史数据处理_各个蓝球'+str(x)+'期出击次数算法\\\\'+'汇总各个蓝球'+'移动'+str(x)+'期出击次数数据_MAX='+str(df1b.次数.max())+'.xlsx'\n",
    "df1b.to_excel(path2, index=False)\n",
    "df1b\n",
    "print('END', '='*80, 'END')\n",
    "\n"
   ]
  },
  {
   "cell_type": "code",
   "execution_count": 10,
   "metadata": {},
   "outputs": [
    {
     "data": {
      "text/html": [
       "<div>\n",
       "<style scoped>\n",
       "    .dataframe tbody tr th:only-of-type {\n",
       "        vertical-align: middle;\n",
       "    }\n",
       "\n",
       "    .dataframe tbody tr th {\n",
       "        vertical-align: top;\n",
       "    }\n",
       "\n",
       "    .dataframe thead th {\n",
       "        text-align: right;\n",
       "    }\n",
       "</style>\n",
       "<table border=\"1\" class=\"dataframe\">\n",
       "  <thead>\n",
       "    <tr style=\"text-align: right;\">\n",
       "      <th></th>\n",
       "      <th>期号</th>\n",
       "      <th>L1</th>\n",
       "      <th>L2</th>\n",
       "      <th>球号</th>\n",
       "      <th>次数</th>\n",
       "    </tr>\n",
       "  </thead>\n",
       "  <tbody>\n",
       "    <tr>\n",
       "      <th>0</th>\n",
       "      <td>7001</td>\n",
       "      <td>4</td>\n",
       "      <td>11</td>\n",
       "      <td>1</td>\n",
       "      <td>0</td>\n",
       "    </tr>\n",
       "    <tr>\n",
       "      <th>1</th>\n",
       "      <td>7002</td>\n",
       "      <td>5</td>\n",
       "      <td>12</td>\n",
       "      <td>1</td>\n",
       "      <td>0</td>\n",
       "    </tr>\n",
       "    <tr>\n",
       "      <th>2</th>\n",
       "      <td>7003</td>\n",
       "      <td>1</td>\n",
       "      <td>6</td>\n",
       "      <td>1</td>\n",
       "      <td>0</td>\n",
       "    </tr>\n",
       "    <tr>\n",
       "      <th>3</th>\n",
       "      <td>7004</td>\n",
       "      <td>2</td>\n",
       "      <td>4</td>\n",
       "      <td>1</td>\n",
       "      <td>0</td>\n",
       "    </tr>\n",
       "    <tr>\n",
       "      <th>4</th>\n",
       "      <td>7005</td>\n",
       "      <td>2</td>\n",
       "      <td>11</td>\n",
       "      <td>1</td>\n",
       "      <td>0</td>\n",
       "    </tr>\n",
       "    <tr>\n",
       "      <th>...</th>\n",
       "      <td>...</td>\n",
       "      <td>...</td>\n",
       "      <td>...</td>\n",
       "      <td>...</td>\n",
       "      <td>...</td>\n",
       "    </tr>\n",
       "    <tr>\n",
       "      <th>3978</th>\n",
       "      <td>22028</td>\n",
       "      <td>1</td>\n",
       "      <td>7</td>\n",
       "      <td>12</td>\n",
       "      <td>3</td>\n",
       "    </tr>\n",
       "    <tr>\n",
       "      <th>3979</th>\n",
       "      <td>22029</td>\n",
       "      <td>10</td>\n",
       "      <td>12</td>\n",
       "      <td>12</td>\n",
       "      <td>4</td>\n",
       "    </tr>\n",
       "    <tr>\n",
       "      <th>3980</th>\n",
       "      <td>22030</td>\n",
       "      <td>1</td>\n",
       "      <td>9</td>\n",
       "      <td>12</td>\n",
       "      <td>4</td>\n",
       "    </tr>\n",
       "    <tr>\n",
       "      <th>3981</th>\n",
       "      <td>22031</td>\n",
       "      <td>4</td>\n",
       "      <td>8</td>\n",
       "      <td>12</td>\n",
       "      <td>4</td>\n",
       "    </tr>\n",
       "    <tr>\n",
       "      <th>3982</th>\n",
       "      <td>22032</td>\n",
       "      <td>1</td>\n",
       "      <td>5</td>\n",
       "      <td>12</td>\n",
       "      <td>0</td>\n",
       "    </tr>\n",
       "  </tbody>\n",
       "</table>\n",
       "<p>47796 rows × 5 columns</p>\n",
       "</div>"
      ],
      "text/plain": [
       "         期号  L1  L2  球号  次数\n",
       "0      7001   4  11   1   0\n",
       "1      7002   5  12   1   0\n",
       "2      7003   1   6   1   0\n",
       "3      7004   2   4   1   0\n",
       "4      7005   2  11   1   0\n",
       "...     ...  ..  ..  ..  ..\n",
       "3978  22028   1   7  12   3\n",
       "3979  22029  10  12  12   4\n",
       "3980  22030   1   9  12   4\n",
       "3981  22031   4   8  12   4\n",
       "3982  22032   1   5  12   0\n",
       "\n",
       "[47796 rows x 5 columns]"
      ]
     },
     "execution_count": 10,
     "metadata": {},
     "output_type": "execute_result"
    }
   ],
   "source": [
    "df1b"
   ]
  },
  {
   "cell_type": "code",
   "execution_count": 11,
   "metadata": {},
   "outputs": [
    {
     "data": {
      "text/plain": [
       "10"
      ]
     },
     "execution_count": 11,
     "metadata": {},
     "output_type": "execute_result"
    }
   ],
   "source": [
    "df1b.次数.max()"
   ]
  },
  {
   "cell_type": "code",
   "execution_count": 12,
   "metadata": {},
   "outputs": [
    {
     "data": {
      "text/plain": [
       "Index(['期号', 'L1', 'L2', '球号', '次数'], dtype='object')"
      ]
     },
     "execution_count": 12,
     "metadata": {},
     "output_type": "execute_result"
    }
   ],
   "source": [
    "data = df1b.values\n",
    "column = df1b.columns\n",
    "column"
   ]
  },
  {
   "cell_type": "code",
   "execution_count": 13,
   "metadata": {},
   "outputs": [
    {
     "data": {
      "text/plain": [
       "(47796, 5)"
      ]
     },
     "execution_count": 13,
     "metadata": {},
     "output_type": "execute_result"
    }
   ],
   "source": [
    "df1d = pd.DataFrame(data, columns=column,index=[df1b['球号'], df1b['期号']], )\n",
    "path3 = 'D:\\\\python_work\\\\大乐透算法\\\\大乐透历史数据处理_各个蓝球'+str(x)+'期出击次数算法\\\\'+'大乐透历史数据各个蓝球'+str(x)+'期移动数据_升序+二层索引.xlsx'\n",
    "df1d.to_excel(path3, index=True)\n",
    "df1d.shape\n"
   ]
  },
  {
   "cell_type": "code",
   "execution_count": 14,
   "metadata": {},
   "outputs": [
    {
     "data": {
      "text/plain": [
       "FrozenList(['球号', '期号'])"
      ]
     },
     "execution_count": 14,
     "metadata": {},
     "output_type": "execute_result"
    }
   ],
   "source": [
    "df1d.index.names"
   ]
  },
  {
   "cell_type": "code",
   "execution_count": 15,
   "metadata": {},
   "outputs": [
    {
     "name": "stdout",
     "output_type": "stream",
     "text": [
      "df1b.次数.max()= 10\n",
      "6 [1, 2, 3, 7, 8, 9]\n"
     ]
    }
   ],
   "source": [
    "c9 = list(df1b[df1b.次数>=df1b.次数.max()].球号)\n",
    "print('df1b.次数.max()=', df1b.次数.max())\n",
    "c9a = []\n",
    "c9a.append(c9[0])\n",
    "for i in c9:\n",
    "    if i in c9a:\n",
    "        pass\n",
    "    else:\n",
    "        c9a.append(i)\n",
    "print(len(c9a),c9a)\n"
   ]
  },
  {
   "cell_type": "code",
   "execution_count": 16,
   "metadata": {},
   "outputs": [
    {
     "name": "stdout",
     "output_type": "stream",
     "text": [
      "df1b.次数.max()-1= 9\n",
      "9 [1, 2, 3, 6, 7, 8, 9, 10, 11]\n"
     ]
    }
   ],
   "source": [
    "c9 = list(df1b[df1b.次数>=df1b.次数.max()-1].球号)\n",
    "print('df1b.次数.max()-1=', df1b.次数.max()-1)\n",
    "c9a = []\n",
    "c9a.append(c9[0])\n",
    "for i in c9:\n",
    "    if i in c9a:\n",
    "        pass\n",
    "    else:\n",
    "        c9a.append(i)\n",
    "print(len(c9a),c9a)\n"
   ]
  },
  {
   "cell_type": "code",
   "execution_count": null,
   "metadata": {},
   "outputs": [],
   "source": []
  },
  {
   "cell_type": "code",
   "execution_count": 17,
   "metadata": {},
   "outputs": [
    {
     "data": {
      "text/html": [
       "<div>\n",
       "<style scoped>\n",
       "    .dataframe tbody tr th:only-of-type {\n",
       "        vertical-align: middle;\n",
       "    }\n",
       "\n",
       "    .dataframe tbody tr th {\n",
       "        vertical-align: top;\n",
       "    }\n",
       "\n",
       "    .dataframe thead th {\n",
       "        text-align: right;\n",
       "    }\n",
       "</style>\n",
       "<table border=\"1\" class=\"dataframe\">\n",
       "  <thead>\n",
       "    <tr style=\"text-align: right;\">\n",
       "      <th></th>\n",
       "      <th>期号</th>\n",
       "      <th>L1</th>\n",
       "      <th>L2</th>\n",
       "      <th>球号</th>\n",
       "      <th>次数</th>\n",
       "    </tr>\n",
       "  </thead>\n",
       "  <tbody>\n",
       "    <tr>\n",
       "      <th>0</th>\n",
       "      <td>7001</td>\n",
       "      <td>4</td>\n",
       "      <td>11</td>\n",
       "      <td>1</td>\n",
       "      <td>0</td>\n",
       "    </tr>\n",
       "    <tr>\n",
       "      <th>1</th>\n",
       "      <td>7002</td>\n",
       "      <td>5</td>\n",
       "      <td>12</td>\n",
       "      <td>1</td>\n",
       "      <td>0</td>\n",
       "    </tr>\n",
       "    <tr>\n",
       "      <th>2</th>\n",
       "      <td>7003</td>\n",
       "      <td>1</td>\n",
       "      <td>6</td>\n",
       "      <td>1</td>\n",
       "      <td>0</td>\n",
       "    </tr>\n",
       "    <tr>\n",
       "      <th>3</th>\n",
       "      <td>7004</td>\n",
       "      <td>2</td>\n",
       "      <td>4</td>\n",
       "      <td>1</td>\n",
       "      <td>0</td>\n",
       "    </tr>\n",
       "    <tr>\n",
       "      <th>4</th>\n",
       "      <td>7005</td>\n",
       "      <td>2</td>\n",
       "      <td>11</td>\n",
       "      <td>1</td>\n",
       "      <td>0</td>\n",
       "    </tr>\n",
       "  </tbody>\n",
       "</table>\n",
       "</div>"
      ],
      "text/plain": [
       "     期号  L1  L2  球号  次数\n",
       "0  7001   4  11   1   0\n",
       "1  7002   5  12   1   0\n",
       "2  7003   1   6   1   0\n",
       "3  7004   2   4   1   0\n",
       "4  7005   2  11   1   0"
      ]
     },
     "execution_count": 17,
     "metadata": {},
     "output_type": "execute_result"
    }
   ],
   "source": [
    "x = 13\n",
    "path2 = 'D:\\\\python_work\\\\大乐透算法\\\\大乐透历史数据处理_各个蓝球'+str(x)+'期出击次数算法\\\\汇总各个蓝球移动13期出击次数数据_MAX=10.xlsx'\n",
    "df1b = pd.read_excel(path2)\n",
    "df1b.head()"
   ]
  },
  {
   "cell_type": "code",
   "execution_count": 18,
   "metadata": {},
   "outputs": [
    {
     "data": {
      "text/plain": [
       "(47796, 5)"
      ]
     },
     "execution_count": 18,
     "metadata": {},
     "output_type": "execute_result"
    }
   ],
   "source": [
    "df1b.shape"
   ]
  },
  {
   "cell_type": "code",
   "execution_count": 19,
   "metadata": {},
   "outputs": [
    {
     "name": "stdout",
     "output_type": "stream",
     "text": [
      "# 计算21年100期后最大出击次数-1的球cb\n",
      "df2.次数.max()-1: 6\n",
      "3 [5, 9, 11]\n",
      "# 计算21年100期前最大出击次数-1的球cc\n",
      "df2a.次数.max()-1: 6\n",
      "4 [4, 7, 8, 10]\n",
      "# 计算cc球组中去除cb后的球赋值cd\n",
      "4 [4, 7, 8, 10]\n"
     ]
    }
   ],
   "source": [
    "# 计算21年100期后最大出击次数-1的球cb\n",
    "print('# 计算21年100期后最大出击次数-1的球cb')\n",
    "df2 = df1b[df1b.期号>=21100]\n",
    "print('df2.次数.max()-1:', df2.次数.max()-1)\n",
    "c9 = list(df2[df2.次数>=df2.次数.max()-1].球号)\n",
    "cb = []\n",
    "cb.append(c9[0])\n",
    "for i in c9:\n",
    "    if i in cb:\n",
    "        pass\n",
    "    else:\n",
    "        cb.append(i)\n",
    "print(len(cb),cb)\n",
    "\n",
    "\n",
    "# 计算21年100期前最大出击次数-1的球cc\n",
    "df2b = df1b[df1b.期号>=21000]\n",
    "df2a = df2b[df2b.期号<21100]\n",
    "print('# 计算21年100期前最大出击次数-1的球cc')\n",
    "print('df2a.次数.max()-1:', df2a.次数.max()-1)\n",
    "c9 = list(df2a[df2a.次数>=df2a.次数.max()-1].球号)\n",
    "cc = []\n",
    "cc.append(c9[0])\n",
    "for i in c9:\n",
    "    if i in cc:\n",
    "        pass\n",
    "    else:\n",
    "        cc.append(i)\n",
    "print(len(cc),cc)\n",
    "\n",
    "\n",
    "# 计算cc球组中去除cb后的球赋值cd\n",
    "cd = []\n",
    "for i in cc:\n",
    "    if i in cb:\n",
    "        pass\n",
    "    else:\n",
    "        cd.append(i)\n",
    "print('# 计算cc球组中去除cb后的球赋值cd')\n",
    "print(len(cd),cd)\n",
    "\n",
    "# print('球组中在21年100期后出击次数为4/5次的球赋值c91a/c92a')\n",
    "# c91 = list(df2[df2.次数==4].球号)\n",
    "# c92 = list(df2[df2.次数==5].球号)\n",
    "# # c91去重存到c91a\n",
    "# c91a = []\n",
    "# c91a.append(c91[0])\n",
    "# for i in c91:\n",
    "#     if i in c91a:\n",
    "#         pass\n",
    "#     else:\n",
    "#         c91a.append(i)\n",
    "# print('c91a:', len(c91a), c91a)\n",
    "# # c92去重存到c92a\n",
    "# c92a = []\n",
    "# # c92a.append(c92[0])\n",
    "# for i in c92:\n",
    "#     if i in c92a:\n",
    "#         pass\n",
    "#     else:\n",
    "#         c92a.append(i)\n",
    "# print('c92a:', len(c92a), c92a)\n",
    "# # c91a中去除c92的球存到c9\n",
    "# c9 = []\n",
    "# for i in c91a:\n",
    "#     if i in c92a:\n",
    "#         pass\n",
    "#     else:\n",
    "#         c9.append(i)\n",
    "# print('c91a中去除c92的球存到c9')\n",
    "# print('c9:', len(c9), c9)\n",
    "\n",
    "\n",
    "# # 计算cd球组中在21年100期后出击次数为4次的球赋值ce\n",
    "# ce = []\n",
    "# for i in c9:\n",
    "#     if i in cd:\n",
    "#         ce.append(i)\n",
    "#     else:\n",
    "#         pass\n",
    "# print('# 计算cd球组中在21年100期后出击次数为4次的球赋值ce')\n",
    "# print('ce:', len(ce), ce)\n"
   ]
  },
  {
   "cell_type": "code",
   "execution_count": 20,
   "metadata": {},
   "outputs": [
    {
     "name": "stdout",
     "output_type": "stream",
     "text": [
      "# 计算21年300期后最大出击次数-1的球cb\n",
      "df2.次数.max()-1: 4\n",
      "8 [1, 4, 5, 6, 7, 9, 11, 12]\n",
      "# 计算21年300期前最大出击次数-1的球cc\n",
      "df2a.次数.max()-1: 6\n",
      "7 [4, 5, 7, 8, 9, 10, 11]\n",
      "# 计算cc球组中去除cb后的球赋值cd\n",
      "2 [8, 10]\n"
     ]
    }
   ],
   "source": [
    "# 计算21年300期后最大出击次数-1的球cb\n",
    "print('# 计算21年300期后最大出击次数-1的球cb')\n",
    "df2 = df1b[df1b.期号>=21300]\n",
    "print('df2.次数.max()-1:', df2.次数.max()-1)\n",
    "c9 = list(df2[df2.次数>=df2.次数.max()-1].球号)\n",
    "cb = []\n",
    "cb.append(c9[0])\n",
    "for i in c9:\n",
    "    if i in cb:\n",
    "        pass\n",
    "    else:\n",
    "        cb.append(i)\n",
    "print(len(cb),cb)\n",
    "\n",
    "\n",
    "# 计算21年300期前最大出击次数-1的球cc\n",
    "df2b = df1b[df1b.期号>=21000]\n",
    "df2a = df2b[df2b.期号<21300]\n",
    "print('# 计算21年300期前最大出击次数-1的球cc')\n",
    "print('df2a.次数.max()-1:', df2a.次数.max()-1)\n",
    "c9 = list(df2a[df2a.次数>=df2a.次数.max()-1].球号)\n",
    "cc = []\n",
    "cc.append(c9[0])\n",
    "for i in c9:\n",
    "    if i in cc:\n",
    "        pass\n",
    "    else:\n",
    "        cc.append(i)\n",
    "print(len(cc),cc)\n",
    "\n",
    "\n",
    "# 计算cc球组中去除cb后的球赋值cd\n",
    "cd = []\n",
    "for i in cc:\n",
    "    if i in cb:\n",
    "        pass\n",
    "    else:\n",
    "        cd.append(i)\n",
    "print('# 计算cc球组中去除cb后的球赋值cd')\n",
    "print(len(cd),cd)\n",
    "\n",
    "# print('球组中在21年300期后出击次数为3/4次的球赋值c91a/c92a')\n",
    "# c91 = list(df2[df2.次数==3].球号)\n",
    "# c92 = list(df2[df2.次数==4].球号)\n",
    "# # c91去重存到c91a\n",
    "# c91a = []\n",
    "# c91a.append(c91[0])\n",
    "# for i in c91:\n",
    "#     if i in c91a:\n",
    "#         pass\n",
    "#     else:\n",
    "#         c91a.append(i)\n",
    "# print('c91a:', len(c91a), c91a)\n",
    "# # c92去重存到c92a\n",
    "# c92a = []\n",
    "# # c92a.append(c92[0])\n",
    "# for i in c92:\n",
    "#     if i in c92a:\n",
    "#         pass\n",
    "#     else:\n",
    "#         c92a.append(i)\n",
    "# print('c92a:', len(c92a), c92a)\n",
    "# # c91a中去除c92的球存到c9\n",
    "# c9 = []\n",
    "# for i in c91a:\n",
    "#     if i in c92a:\n",
    "#         pass\n",
    "#     else:\n",
    "#         c9.append(i)\n",
    "# print('c91a中去除c92的球存到c9')\n",
    "# print('c9:', len(c9), c9)\n",
    "\n",
    "\n",
    "# # 计算cd球组中在21年300期后出击次数为3次的球赋值ce\n",
    "# ce = []\n",
    "# for i in c9:\n",
    "#     if i in cd:\n",
    "#         ce.append(i)\n",
    "#     else:\n",
    "#         pass\n",
    "# print('# 计算cd球组中在21年300期后出击次数为3次的球赋值ce')\n",
    "# print('ce:', len(ce), ce)\n"
   ]
  },
  {
   "cell_type": "markdown",
   "metadata": {},
   "source": [
    "## 计算cc球组中去除cb后的球赋值cd\n",
    "## 2 [8, 10]"
   ]
  },
  {
   "cell_type": "markdown",
   "metadata": {},
   "source": [
    "## 画图"
   ]
  },
  {
   "cell_type": "code",
   "execution_count": 21,
   "metadata": {},
   "outputs": [],
   "source": [
    "# 导入需要的函数\n",
    "from bokeh.plotting import figure, output_notebook, show\n",
    "import seaborn as sns\n",
    "from matplotlib import pyplot as plt\n"
   ]
  },
  {
   "cell_type": "code",
   "execution_count": 22,
   "metadata": {},
   "outputs": [
    {
     "data": {
      "text/html": [
       "<div>\n",
       "<style scoped>\n",
       "    .dataframe tbody tr th:only-of-type {\n",
       "        vertical-align: middle;\n",
       "    }\n",
       "\n",
       "    .dataframe tbody tr th {\n",
       "        vertical-align: top;\n",
       "    }\n",
       "\n",
       "    .dataframe thead th {\n",
       "        text-align: right;\n",
       "    }\n",
       "</style>\n",
       "<table border=\"1\" class=\"dataframe\">\n",
       "  <thead>\n",
       "    <tr style=\"text-align: right;\">\n",
       "      <th></th>\n",
       "      <th>期号</th>\n",
       "      <th>L1</th>\n",
       "      <th>L2</th>\n",
       "      <th>球号</th>\n",
       "      <th>次数</th>\n",
       "    </tr>\n",
       "  </thead>\n",
       "  <tbody>\n",
       "    <tr>\n",
       "      <th>3801</th>\n",
       "      <td>21001</td>\n",
       "      <td>8</td>\n",
       "      <td>9</td>\n",
       "      <td>1</td>\n",
       "      <td>2</td>\n",
       "    </tr>\n",
       "    <tr>\n",
       "      <th>3802</th>\n",
       "      <td>21002</td>\n",
       "      <td>9</td>\n",
       "      <td>11</td>\n",
       "      <td>1</td>\n",
       "      <td>2</td>\n",
       "    </tr>\n",
       "    <tr>\n",
       "      <th>3803</th>\n",
       "      <td>21003</td>\n",
       "      <td>4</td>\n",
       "      <td>10</td>\n",
       "      <td>1</td>\n",
       "      <td>2</td>\n",
       "    </tr>\n",
       "    <tr>\n",
       "      <th>3804</th>\n",
       "      <td>21004</td>\n",
       "      <td>2</td>\n",
       "      <td>8</td>\n",
       "      <td>1</td>\n",
       "      <td>1</td>\n",
       "    </tr>\n",
       "    <tr>\n",
       "      <th>3805</th>\n",
       "      <td>21005</td>\n",
       "      <td>3</td>\n",
       "      <td>5</td>\n",
       "      <td>1</td>\n",
       "      <td>1</td>\n",
       "    </tr>\n",
       "  </tbody>\n",
       "</table>\n",
       "</div>"
      ],
      "text/plain": [
       "         期号  L1  L2  球号  次数\n",
       "3801  21001   8   9   1   2\n",
       "3802  21002   9  11   1   2\n",
       "3803  21003   4  10   1   2\n",
       "3804  21004   2   8   1   1\n",
       "3805  21005   3   5   1   1"
      ]
     },
     "execution_count": 22,
     "metadata": {},
     "output_type": "execute_result"
    }
   ],
   "source": [
    "df2b.head()"
   ]
  },
  {
   "cell_type": "code",
   "execution_count": 23,
   "metadata": {},
   "outputs": [
    {
     "data": {
      "text/plain": [
       "(2184, 5)"
      ]
     },
     "execution_count": 23,
     "metadata": {},
     "output_type": "execute_result"
    }
   ],
   "source": [
    "df2b.shape"
   ]
  },
  {
   "cell_type": "code",
   "execution_count": 24,
   "metadata": {},
   "outputs": [],
   "source": [
    "qs = -50"
   ]
  },
  {
   "cell_type": "code",
   "execution_count": 25,
   "metadata": {
    "scrolled": true
   },
   "outputs": [
    {
     "name": "stdout",
     "output_type": "stream",
     "text": [
      "8号球每13期移动出击次数线\n"
     ]
    },
    {
     "data": {
      "image/png": "[encoded data removed]",
      "text/plain": [
       "<Figure size 432x288 with 1 Axes>"
      ]
     },
     "metadata": {
      "needs_background": "light"
     },
     "output_type": "display_data"
    },
    {
     "name": "stdout",
     "output_type": "stream",
     "text": [
      "10号球每13期移动出击次数线\n"
     ]
    },
    {
     "data": {
      "image/png": "[encoded data removed]",
      "text/plain": [
       "<Figure size 432x288 with 1 Axes>"
      ]
     },
     "metadata": {
      "needs_background": "light"
     },
     "output_type": "display_data"
    }
   ],
   "source": [
    "# 循环遍历cd中各球画出每13期移动出击次数线\n",
    "for i in range(len(cd)):\n",
    "    # 计算x/y的数据\n",
    "    y1 = df2b[df2b.球号==cd[i]].次数[qs:]\n",
    "    x1 = df2b[df2b.球号==cd[i]].期号[qs:]\n",
    "    # 创建画布 p，设置 x_axis_type='datetime'\n",
    "    # plt.figure(figsize=(20,6),dpi=600)\n",
    "    plt.figure()\n",
    "    print(str(cd[i])+'号球每13期移动出击次数线')\n",
    "    plt.plot(x1.index, y1)\n",
    "    plt.title=str(cd[i])+'号球每13期移动出击次数线'\n",
    "    plt.show()\n"
   ]
  },
  {
   "cell_type": "code",
   "execution_count": null,
   "metadata": {},
   "outputs": [],
   "source": []
  },
  {
   "cell_type": "code",
   "execution_count": null,
   "metadata": {},
   "outputs": [],
   "source": []
  },
  {
   "cell_type": "code",
   "execution_count": null,
   "metadata": {},
   "outputs": [],
   "source": []
  },
  {
   "cell_type": "code",
   "execution_count": null,
   "metadata": {},
   "outputs": [],
   "source": []
  }
 ],
 "metadata": {
  "kernelspec": {
   "display_name": "Python 3 (ipykernel)",
   "language": "python",
   "name": "python3"
  },
  "language_info": {
   "codemirror_mode": {
    "name": "ipython",
    "version": 3
   },
   "file_extension": ".py",
   "mimetype": "text/x-python",
   "name": "python",
   "nbconvert_exporter": "python",
   "pygments_lexer": "ipython3",
   "version": "3.8.11"
  }
 },
 "nbformat": 4,
 "nbformat_minor": 2
}
