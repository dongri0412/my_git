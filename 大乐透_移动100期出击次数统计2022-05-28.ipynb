{
 "cells": [
  {
   "cell_type": "markdown",
   "metadata": {},
   "source": [
    "## 大乐透_移动100期出击次数统计2022-05-28\n",
    "\n"
   ]
  },
  {
   "cell_type": "code",
   "execution_count": 1,
   "metadata": {},
   "outputs": [
    {
     "name": "stdout",
     "output_type": "stream",
     "text": [
      "2022-05-29 03:33:30\n"
     ]
    }
   ],
   "source": [
    "# 取当前日期和时间\n",
    "import time\n",
    "date = (time.strftime(\"%Y-%m-%d %H:%M:%S\", time.localtime()))\n",
    "print(date)\n",
    "\n",
    "# 导入模块\n",
    "import pandas as pd\n",
    "import numpy as np\n",
    "# 导入排列组合计算函数\n",
    "#调用scipy科学计算包中计算排列组合（permutation and combination）的模块\n",
    "from scipy.special import perm, comb\n",
    "#调用 itertools库（内置库） 获取排列组合的全部情况数\n",
    "from itertools import permutations, combinations"
   ]
  },
  {
   "cell_type": "code",
   "execution_count": null,
   "metadata": {},
   "outputs": [],
   "source": []
  },
  {
   "cell_type": "code",
   "execution_count": 2,
   "metadata": {},
   "outputs": [
    {
     "name": "stdout",
     "output_type": "stream",
     "text": [
      "(4010, 17)\n"
     ]
    },
    {
     "data": {
      "text/html": [
       "<div>\n",
       "<style scoped>\n",
       "    .dataframe tbody tr th:only-of-type {\n",
       "        vertical-align: middle;\n",
       "    }\n",
       "\n",
       "    .dataframe tbody tr th {\n",
       "        vertical-align: top;\n",
       "    }\n",
       "\n",
       "    .dataframe thead th {\n",
       "        text-align: right;\n",
       "    }\n",
       "</style>\n",
       "<table border=\"1\" class=\"dataframe\">\n",
       "  <thead>\n",
       "    <tr style=\"text-align: right;\">\n",
       "      <th></th>\n",
       "      <th>期号</th>\n",
       "      <th>日期</th>\n",
       "      <th>H1</th>\n",
       "      <th>H2</th>\n",
       "      <th>H3</th>\n",
       "      <th>H4</th>\n",
       "      <th>H5</th>\n",
       "      <th>L1</th>\n",
       "      <th>L2</th>\n",
       "      <th>红和值</th>\n",
       "      <th>红均值</th>\n",
       "      <th>蓝和值</th>\n",
       "      <th>蓝均值</th>\n",
       "      <th>红偶数个数</th>\n",
       "      <th>年份</th>\n",
       "      <th>年内期号</th>\n",
       "      <th>年内月号</th>\n",
       "    </tr>\n",
       "  </thead>\n",
       "  <tbody>\n",
       "    <tr>\n",
       "      <th>0</th>\n",
       "      <td>22059</td>\n",
       "      <td>2022-05-28</td>\n",
       "      <td>4</td>\n",
       "      <td>15</td>\n",
       "      <td>18</td>\n",
       "      <td>32</td>\n",
       "      <td>34</td>\n",
       "      <td>4</td>\n",
       "      <td>9</td>\n",
       "      <td>103</td>\n",
       "      <td>21</td>\n",
       "      <td>13</td>\n",
       "      <td>7</td>\n",
       "      <td>4</td>\n",
       "      <td>2022</td>\n",
       "      <td>59</td>\n",
       "      <td>5</td>\n",
       "    </tr>\n",
       "    <tr>\n",
       "      <th>1</th>\n",
       "      <td>22058</td>\n",
       "      <td>2022-05-25</td>\n",
       "      <td>3</td>\n",
       "      <td>4</td>\n",
       "      <td>24</td>\n",
       "      <td>26</td>\n",
       "      <td>35</td>\n",
       "      <td>7</td>\n",
       "      <td>8</td>\n",
       "      <td>92</td>\n",
       "      <td>18</td>\n",
       "      <td>15</td>\n",
       "      <td>8</td>\n",
       "      <td>3</td>\n",
       "      <td>2022</td>\n",
       "      <td>58</td>\n",
       "      <td>5</td>\n",
       "    </tr>\n",
       "    <tr>\n",
       "      <th>2</th>\n",
       "      <td>22057</td>\n",
       "      <td>2022-05-23</td>\n",
       "      <td>6</td>\n",
       "      <td>12</td>\n",
       "      <td>18</td>\n",
       "      <td>21</td>\n",
       "      <td>35</td>\n",
       "      <td>7</td>\n",
       "      <td>10</td>\n",
       "      <td>92</td>\n",
       "      <td>18</td>\n",
       "      <td>17</td>\n",
       "      <td>9</td>\n",
       "      <td>3</td>\n",
       "      <td>2022</td>\n",
       "      <td>57</td>\n",
       "      <td>5</td>\n",
       "    </tr>\n",
       "    <tr>\n",
       "      <th>3</th>\n",
       "      <td>22056</td>\n",
       "      <td>2022-05-21</td>\n",
       "      <td>2</td>\n",
       "      <td>11</td>\n",
       "      <td>15</td>\n",
       "      <td>17</td>\n",
       "      <td>31</td>\n",
       "      <td>7</td>\n",
       "      <td>9</td>\n",
       "      <td>76</td>\n",
       "      <td>15</td>\n",
       "      <td>16</td>\n",
       "      <td>8</td>\n",
       "      <td>1</td>\n",
       "      <td>2022</td>\n",
       "      <td>56</td>\n",
       "      <td>5</td>\n",
       "    </tr>\n",
       "    <tr>\n",
       "      <th>4</th>\n",
       "      <td>22055</td>\n",
       "      <td>2022-05-18</td>\n",
       "      <td>1</td>\n",
       "      <td>2</td>\n",
       "      <td>12</td>\n",
       "      <td>15</td>\n",
       "      <td>23</td>\n",
       "      <td>4</td>\n",
       "      <td>6</td>\n",
       "      <td>53</td>\n",
       "      <td>11</td>\n",
       "      <td>10</td>\n",
       "      <td>5</td>\n",
       "      <td>2</td>\n",
       "      <td>2022</td>\n",
       "      <td>55</td>\n",
       "      <td>5</td>\n",
       "    </tr>\n",
       "  </tbody>\n",
       "</table>\n",
       "</div>"
      ],
      "text/plain": [
       "      期号          日期  H1  H2  H3  H4  H5  L1  L2  红和值  红均值  蓝和值  蓝均值  红偶数个数  \\\n",
       "0  22059  2022-05-28   4  15  18  32  34   4   9  103   21   13    7      4   \n",
       "1  22058  2022-05-25   3   4  24  26  35   7   8   92   18   15    8      3   \n",
       "2  22057  2022-05-23   6  12  18  21  35   7  10   92   18   17    9      3   \n",
       "3  22056  2022-05-21   2  11  15  17  31   7   9   76   15   16    8      1   \n",
       "4  22055  2022-05-18   1   2  12  15  23   4   6   53   11   10    5      2   \n",
       "\n",
       "     年份  年内期号  年内月号  \n",
       "0  2022    59     5  \n",
       "1  2022    58     5  \n",
       "2  2022    57     5  \n",
       "3  2022    56     5  \n",
       "4  2022    55     5  "
      ]
     },
     "execution_count": 2,
     "metadata": {},
     "output_type": "execute_result"
    }
   ],
   "source": [
    "path = '大乐透总历史开奖号码表.xlsx'\n",
    "df = pd.read_excel(path)\n",
    "print(df.shape)\n",
    "df.head()"
   ]
  },
  {
   "cell_type": "code",
   "execution_count": 3,
   "metadata": {},
   "outputs": [
    {
     "name": "stdout",
     "output_type": "stream",
     "text": [
      "22059 期以后的近100期出现过的篮球有如下： {1, 2, 3, 4, 5, 6, 7, 8, 9, 10, 11, 12}\n",
      "统计此轮近100期间蓝球累计出击次数分6个区间 ['<13', '>=13to<15', '>=15to<16', '>=16to<19', '>=19to<23', '>=23'] = [2, 1, 2, 3, 2, 2]\n",
      "[[2, 3], [4], [1, 10], [7, 8, 12], [6, 11], [5, 9]]\n",
      "此轮蓝球 [4, 9] 出现的区间为： >=13to<15 = [4] ； >=23 = [5, 9]\n",
      "----------------------------------------------------------------------------------------------------------------------\n",
      "22058 期以后的近100期出现过的篮球有如下： {1, 2, 3, 4, 5, 6, 7, 8, 9, 10, 11, 12}\n",
      "统计此轮近100期间蓝球累计出击次数分6个区间 ['<13', '>=13to<15', '>=15to<16', '>=16to<19', '>=19to<23', '>=23'] = [2, 1, 3, 2, 2, 2]\n",
      "[[2, 3], [4], [1, 8, 10], [7, 12], [6, 11], [5, 9]]\n",
      "此轮蓝球 [7, 8] 出现的区间为： >=16to<19 = [7, 12] ； >=15to<16 = [1, 8, 10]\n",
      "----------------------------------------------------------------------------------------------------------------------\n",
      "22057 期以后的近100期出现过的篮球有如下： {1, 2, 3, 4, 5, 6, 7, 8, 9, 10, 11, 12}\n",
      "统计此轮近100期间蓝球累计出击次数分6个区间 ['<13', '>=13to<15', '>=15to<16', '>=16to<19', '>=19to<23', '>=23'] = [2, 2, 2, 2, 2, 2]\n",
      "[[2, 3], [4, 10], [1, 8], [7, 12], [6, 11], [5, 9]]\n",
      "此轮蓝球 [7, 10] 出现的区间为： >=16to<19 = [7, 12] ； >=13to<15 = [4, 10]\n",
      "----------------------------------------------------------------------------------------------------------------------\n"
     ]
    },
    {
     "name": "stderr",
     "output_type": "stream",
     "text": [
      "C:\\Users\\DELL\\AppData\\Local\\Temp/ipykernel_14128/1073561553.py:63: SettingWithCopyWarning: \n",
      "A value is trying to be set on a copy of a slice from a DataFrame\n",
      "\n",
      "See the caveats in the documentation: https://pandas.pydata.org/pandas-docs/stable/user_guide/indexing.html#returning-a-view-versus-a-copy\n",
      "  df_lq100[dd_text100[i]][i_qs] = a\n",
      "C:\\Users\\DELL\\AppData\\Local\\Temp/ipykernel_14128/1073561553.py:83: SettingWithCopyWarning: \n",
      "A value is trying to be set on a copy of a slice from a DataFrame\n",
      "\n",
      "See the caveats in the documentation: https://pandas.pydata.org/pandas-docs/stable/user_guide/indexing.html#returning-a-view-versus-a-copy\n",
      "  df_lq100[dd_sum100[i1]][i_qs] = dd_text100[ii]\n",
      "D:\\software\\Anaconda3\\lib\\site-packages\\pandas\\core\\indexing.py:1732: SettingWithCopyWarning: \n",
      "A value is trying to be set on a copy of a slice from a DataFrame\n",
      "\n",
      "See the caveats in the documentation: https://pandas.pydata.org/pandas-docs/stable/user_guide/indexing.html#returning-a-view-versus-a-copy\n",
      "  self._setitem_single_block(indexer, value, name)\n"
     ]
    },
    {
     "data": {
      "text/html": [
       "<div>\n",
       "<style scoped>\n",
       "    .dataframe tbody tr th:only-of-type {\n",
       "        vertical-align: middle;\n",
       "    }\n",
       "\n",
       "    .dataframe tbody tr th {\n",
       "        vertical-align: top;\n",
       "    }\n",
       "\n",
       "    .dataframe thead th {\n",
       "        text-align: right;\n",
       "    }\n",
       "</style>\n",
       "<table border=\"1\" class=\"dataframe\">\n",
       "  <thead>\n",
       "    <tr style=\"text-align: right;\">\n",
       "      <th></th>\n",
       "      <th>期号</th>\n",
       "      <th>日期</th>\n",
       "      <th>L1</th>\n",
       "      <th>L2</th>\n",
       "      <th>&lt;13</th>\n",
       "      <th>&gt;=13to&lt;15</th>\n",
       "      <th>&gt;=15to&lt;16</th>\n",
       "      <th>&gt;=16to&lt;19</th>\n",
       "      <th>&gt;=19to&lt;23</th>\n",
       "      <th>&gt;=23</th>\n",
       "      <th>max3</th>\n",
       "      <th>max5</th>\n",
       "      <th>max8</th>\n",
       "      <th>max13</th>\n",
       "    </tr>\n",
       "  </thead>\n",
       "  <tbody>\n",
       "    <tr>\n",
       "      <th>0</th>\n",
       "      <td>22059</td>\n",
       "      <td>2022-05-28</td>\n",
       "      <td>4</td>\n",
       "      <td>9</td>\n",
       "      <td>0</td>\n",
       "      <td>1</td>\n",
       "      <td>0</td>\n",
       "      <td>0</td>\n",
       "      <td>0</td>\n",
       "      <td>1</td>\n",
       "      <td>&gt;=16to&lt;19</td>\n",
       "      <td>&gt;=13to&lt;15</td>\n",
       "      <td>&gt;=13to&lt;15</td>\n",
       "      <td>&gt;=13to&lt;15</td>\n",
       "    </tr>\n",
       "    <tr>\n",
       "      <th>1</th>\n",
       "      <td>22058</td>\n",
       "      <td>2022-05-25</td>\n",
       "      <td>7</td>\n",
       "      <td>8</td>\n",
       "      <td>0</td>\n",
       "      <td>0</td>\n",
       "      <td>1</td>\n",
       "      <td>1</td>\n",
       "      <td>0</td>\n",
       "      <td>0</td>\n",
       "      <td>&gt;=16to&lt;19</td>\n",
       "      <td>&gt;=13to&lt;15</td>\n",
       "      <td>&gt;=13to&lt;15</td>\n",
       "      <td>&gt;=13to&lt;15</td>\n",
       "    </tr>\n",
       "    <tr>\n",
       "      <th>2</th>\n",
       "      <td>22057</td>\n",
       "      <td>2022-05-23</td>\n",
       "      <td>7</td>\n",
       "      <td>10</td>\n",
       "      <td>0</td>\n",
       "      <td>1</td>\n",
       "      <td>0</td>\n",
       "      <td>1</td>\n",
       "      <td>0</td>\n",
       "      <td>0</td>\n",
       "      <td>&gt;=13to&lt;15</td>\n",
       "      <td>&gt;=13to&lt;15</td>\n",
       "      <td>&gt;=13to&lt;15</td>\n",
       "      <td>&gt;=13to&lt;15</td>\n",
       "    </tr>\n",
       "  </tbody>\n",
       "</table>\n",
       "</div>"
      ],
      "text/plain": [
       "      期号          日期  L1  L2  <13  >=13to<15  >=15to<16  >=16to<19  >=19to<23  \\\n",
       "0  22059  2022-05-28   4   9    0          1          0          0          0   \n",
       "1  22058  2022-05-25   7   8    0          0          1          1          0   \n",
       "2  22057  2022-05-23   7  10    0          1          0          1          0   \n",
       "\n",
       "   >=23       max3       max5       max8      max13  \n",
       "0     1  >=16to<19  >=13to<15  >=13to<15  >=13to<15  \n",
       "1     0  >=16to<19  >=13to<15  >=13to<15  >=13to<15  \n",
       "2     0  >=13to<15  >=13to<15  >=13to<15  >=13to<15  "
      ]
     },
     "execution_count": 3,
     "metadata": {},
     "output_type": "execute_result"
    }
   ],
   "source": [
    "# 100期蓝球\n",
    "# 统计100期间个球累计出击次数[<<13, >=13to<15, >=15to<16, >=16to<19, >=19to<23, >=23],分5个区间;\n",
    "df_lq = df.loc[:,['期号','日期','L1','L2']]\n",
    "df_lq100 = df_lq.copy()\n",
    "df_lq25 = df_lq.copy()\n",
    "columns100 = ['<13', '>=13to<15', '>=15to<16', '>=16to<19', '>=19to<23', '>=23', 'max3', 'max5', 'max8', 'max13'] \n",
    "#columns25 = ['<=2', '3', '4', '5', '6', '>=7', 'max3', 'max5', 'max8', 'max13'] \n",
    "for i in columns100:\n",
    "    df_lq100[i] = 0\n",
    "# for i in columns25:\n",
    "#     df_lq25[i] = 0\n",
    "\n",
    "dd_text100 = list(df_lq100.columns[4:10])\n",
    "dd_sum100 = list(df_lq100.columns[-4:])\n",
    "qishu = 25\n",
    "for i_qs in range(qishu):\n",
    "    df1 = df_lq100[i_qs+1:100+i_qs+1]\n",
    "    df2 = df1.iloc[:,2:4]\n",
    "    dd = []\n",
    "    l1 = df2['L1'].values\n",
    "    l2 = df2['L2'].values\n",
    "    dd = list(l1.copy())\n",
    "    dd.extend(l2)\n",
    "    dd1 = set(dd)  #('本轮100期间，出现过的篮球有如下：', dd1)\n",
    "    \n",
    "    dd2 = []\n",
    "    dd3 = []\n",
    "    dd4 = []\n",
    "    dd5 = []\n",
    "    dd6 = []\n",
    "    dd7 = []\n",
    "    a = 0\n",
    "    for i in dd1:\n",
    "        for ii in dd:\n",
    "            if i==ii:\n",
    "                a = a+1\n",
    "        if a>=1 and a<13:\n",
    "            dd2.append(i)\n",
    "        elif a>=13 and a<15:\n",
    "            dd3.append(i)\n",
    "        elif a>=15 and a<16:\n",
    "            dd4.append(i)\n",
    "        elif a>=16 and a<19:\n",
    "            dd5.append(i)\n",
    "        elif a>=19 and a<23:\n",
    "            dd6.append(i)\n",
    "        elif a>=23:\n",
    "            dd7.append(i)\n",
    "        a = 0\n",
    "    dd_len = [len(dd2),len(dd3),len(dd4),len(dd5),len(dd6),len(dd7)]\n",
    "    dd_list = [dd2,dd3,dd4,dd5,dd6,dd7]\n",
    "    L1 = df_lq['L1'][i_qs]\n",
    "    L2 = df_lq['L2'][i_qs]\n",
    "    \n",
    "    for i in range(len(dd_list)):\n",
    "        a = 0\n",
    "        if L1 in dd_list[i]:\n",
    "            i1 = i\n",
    "            a += 1\n",
    "        if L2 in dd_list[i]:\n",
    "            i2 = i\n",
    "            a += 1\n",
    "        df_lq100[dd_text100[i]][i_qs] = a\n",
    "        \n",
    "    \n",
    "    if i_qs<=2 : \n",
    "        print(df_lq['期号'][i_qs],'期以后的近100期出现过的篮球有如下：', dd1)\n",
    "        print('统计此轮近100期间蓝球累计出击次数分6个区间', dd_text100, '=', dd_len)\n",
    "        print(dd_list)\n",
    "        print('此轮蓝球', [L1, L2], '出现的区间为：', dd_text100[i1], '=', dd_list[i1], '；', dd_text100[i2], '=', dd_list[i2])\n",
    "        print('-'*118)\n",
    "\n",
    "\n",
    "s = [3,5,8,13]\n",
    "for i_qs in range(qishu-13):\n",
    "    for i1 in range(len(s)):\n",
    "        sum_list = []\n",
    "        for i in dd_text100:\n",
    "            sum_list.append(df_lq100[i][i_qs : i_qs+s[i1]].sum())\n",
    "        for ii in range(len(sum_list)):\n",
    "            if sum_list[ii] == np.array(sum_list).max():\n",
    "                #print('ii=', ii, sum_list[ii], dd_text100[ii] )\n",
    "                df_lq100[dd_sum100[i1]][i_qs] = dd_text100[ii]\n",
    "       \n",
    "    \n",
    "df_lq100.head(3)\n",
    "\n"
   ]
  },
  {
   "cell_type": "markdown",
   "metadata": {},
   "source": [
    "# ===================================================="
   ]
  },
  {
   "cell_type": "code",
   "execution_count": 4,
   "metadata": {},
   "outputs": [
    {
     "name": "stdout",
     "output_type": "stream",
     "text": [
      "统计此轮近100期间红球累计出击次数分6个区间 ['<11', '>=11to<13', '>=13to<14', '>=14to<16', '>=16to<18', '>=18'] = [6, 4, 8, 5, 7, 5]\n",
      "[[3, 6, 13, 22, 24, 32], [15, 21, 23, 27], [5, 9, 10, 12, 20, 26, 30, 33], [4, 14, 28, 31, 34], [7, 8, 11, 16, 19, 25, 35], [1, 2, 17, 18, 29]]\n",
      "此轮红球 [4, 15, 18, 32, 34] 出现的区间为： >=14to<16 >=11to<13 >=18 <11 >=14to<16\n",
      "----------------------------------------------------------------------------------------------------------------------\n",
      "统计此轮近100期间红球累计出击次数分6个区间 ['<11', '>=11to<13', '>=13to<14', '>=14to<16', '>=16to<18', '>=18'] = [5, 5, 7, 6, 6, 6]\n",
      "[[3, 6, 13, 24, 32], [15, 21, 22, 23, 27], [9, 10, 12, 20, 26, 30, 33], [4, 5, 14, 28, 31, 34], [7, 8, 11, 16, 25, 35], [1, 2, 17, 18, 19, 29]]\n",
      "此轮红球 [3, 4, 24, 26, 35] 出现的区间为： <11 >=14to<16 <11 >=13to<14 >=16to<18\n",
      "----------------------------------------------------------------------------------------------------------------------\n",
      "统计此轮近100期间红球累计出击次数分6个区间 ['<11', '>=11to<13', '>=13to<14', '>=14to<16', '>=16to<18', '>=18'] = [4, 7, 5, 7, 6, 6]\n",
      "[[3, 6, 24, 32], [12, 13, 15, 21, 22, 23, 27], [9, 10, 26, 30, 33], [4, 5, 14, 20, 28, 31, 34], [7, 8, 11, 16, 25, 35], [1, 2, 17, 18, 19, 29]]\n",
      "此轮红球 [6, 12, 18, 21, 35] 出现的区间为： <11 >=11to<13 >=18 >=11to<13 >=16to<18\n",
      "----------------------------------------------------------------------------------------------------------------------\n",
      "统计此轮近100期间红球累计出击次数分6个区间 ['<11', '>=11to<13', '>=13to<14', '>=14to<16', '>=16to<18', '>=18'] = [5, 6, 5, 6, 7, 6]\n",
      "[[3, 6, 15, 24, 32], [12, 13, 21, 22, 23, 27], [9, 10, 26, 30, 33], [4, 5, 14, 20, 28, 31], [7, 8, 11, 16, 25, 34, 35], [1, 2, 17, 18, 19, 29]]\n",
      "此轮红球 [2, 11, 15, 17, 31] 出现的区间为： >=18 >=16to<18 <11 >=18 >=14to<16\n",
      "----------------------------------------------------------------------------------------------------------------------\n",
      "统计此轮近100期间红球累计出击次数分6个区间 ['<11', '>=11to<13', '>=13to<14', '>=14to<16', '>=16to<18', '>=18'] = [6, 5, 4, 7, 7, 6]\n",
      "[[3, 6, 15, 23, 24, 32], [12, 13, 21, 22, 27], [9, 26, 30, 33], [4, 5, 10, 14, 20, 28, 31], [7, 8, 11, 16, 25, 34, 35], [1, 2, 17, 18, 19, 29]]\n",
      "此轮红球 [1, 2, 12, 15, 23] 出现的区间为： >=18 >=18 >=11to<13 <11 <11\n",
      "----------------------------------------------------------------------------------------------------------------------\n"
     ]
    },
    {
     "name": "stderr",
     "output_type": "stream",
     "text": [
      "C:\\Users\\DELL\\AppData\\Local\\Temp/ipykernel_14128/1672806278.py:78: SettingWithCopyWarning: \n",
      "A value is trying to be set on a copy of a slice from a DataFrame\n",
      "\n",
      "See the caveats in the documentation: https://pandas.pydata.org/pandas-docs/stable/user_guide/indexing.html#returning-a-view-versus-a-copy\n",
      "  df_hq100[dd_text100[i]][i_qs] = a\n",
      "C:\\Users\\DELL\\AppData\\Local\\Temp/ipykernel_14128/1672806278.py:121: SettingWithCopyWarning: \n",
      "A value is trying to be set on a copy of a slice from a DataFrame\n",
      "\n",
      "See the caveats in the documentation: https://pandas.pydata.org/pandas-docs/stable/user_guide/indexing.html#returning-a-view-versus-a-copy\n",
      "  df_hq100[dd_sum100[i1]][i_qs] = dd_text100[i2]\n",
      "D:\\software\\Anaconda3\\lib\\site-packages\\pandas\\core\\indexing.py:1732: SettingWithCopyWarning: \n",
      "A value is trying to be set on a copy of a slice from a DataFrame\n",
      "\n",
      "See the caveats in the documentation: https://pandas.pydata.org/pandas-docs/stable/user_guide/indexing.html#returning-a-view-versus-a-copy\n",
      "  self._setitem_single_block(indexer, value, name)\n"
     ]
    },
    {
     "name": "stdout",
     "output_type": "stream",
     "text": [
      "sum_list = [[4, 3, 1, 3, 2, 2], [7, 4, 1, 4, 3, 6], [9, 6, 2, 7, 7, 9], [15, 8, 4, 13, 12, 13]]\n",
      "sum_list = [[4, 2, 1, 2, 3, 3], [8, 3, 1, 4, 4, 5], [8, 5, 3, 5, 10, 9], [17, 7, 4, 12, 12, 13]]\n",
      "sum_list = [[4, 3, 0, 1, 2, 5], [6, 4, 1, 3, 5, 6], [8, 5, 2, 6, 9, 10], [17, 7, 4, 11, 12, 14]]\n",
      "sum_list = [[5, 1, 0, 3, 2, 4], [5, 3, 1, 4, 5, 7], [8, 4, 3, 7, 9, 9], [16, 6, 4, 13, 11, 15]]\n",
      "sum_list = [[4, 2, 1, 2, 3, 3], [4, 3, 2, 3, 7, 6], [9, 4, 3, 8, 9, 7], [16, 6, 5, 12, 11, 15]]\n"
     ]
    },
    {
     "data": {
      "text/html": [
       "<div>\n",
       "<style scoped>\n",
       "    .dataframe tbody tr th:only-of-type {\n",
       "        vertical-align: middle;\n",
       "    }\n",
       "\n",
       "    .dataframe tbody tr th {\n",
       "        vertical-align: top;\n",
       "    }\n",
       "\n",
       "    .dataframe thead th {\n",
       "        text-align: right;\n",
       "    }\n",
       "</style>\n",
       "<table border=\"1\" class=\"dataframe\">\n",
       "  <thead>\n",
       "    <tr style=\"text-align: right;\">\n",
       "      <th></th>\n",
       "      <th>期号</th>\n",
       "      <th>日期</th>\n",
       "      <th>H1</th>\n",
       "      <th>H2</th>\n",
       "      <th>H3</th>\n",
       "      <th>H4</th>\n",
       "      <th>H5</th>\n",
       "      <th>&lt;11</th>\n",
       "      <th>&gt;=11to&lt;13</th>\n",
       "      <th>&gt;=13to&lt;14</th>\n",
       "      <th>&gt;=14to&lt;16</th>\n",
       "      <th>&gt;=16to&lt;18</th>\n",
       "      <th>&gt;=18</th>\n",
       "      <th>max3</th>\n",
       "      <th>max5</th>\n",
       "      <th>max8</th>\n",
       "      <th>max13</th>\n",
       "    </tr>\n",
       "  </thead>\n",
       "  <tbody>\n",
       "    <tr>\n",
       "      <th>0</th>\n",
       "      <td>22059</td>\n",
       "      <td>2022-05-28</td>\n",
       "      <td>4</td>\n",
       "      <td>15</td>\n",
       "      <td>18</td>\n",
       "      <td>32</td>\n",
       "      <td>34</td>\n",
       "      <td>1</td>\n",
       "      <td>1</td>\n",
       "      <td>0</td>\n",
       "      <td>2</td>\n",
       "      <td>0</td>\n",
       "      <td>1</td>\n",
       "      <td>&lt;11</td>\n",
       "      <td>&lt;11</td>\n",
       "      <td>&gt;=18</td>\n",
       "      <td>&lt;11</td>\n",
       "    </tr>\n",
       "    <tr>\n",
       "      <th>1</th>\n",
       "      <td>22058</td>\n",
       "      <td>2022-05-25</td>\n",
       "      <td>3</td>\n",
       "      <td>4</td>\n",
       "      <td>24</td>\n",
       "      <td>26</td>\n",
       "      <td>35</td>\n",
       "      <td>2</td>\n",
       "      <td>0</td>\n",
       "      <td>1</td>\n",
       "      <td>1</td>\n",
       "      <td>1</td>\n",
       "      <td>0</td>\n",
       "      <td>&lt;11</td>\n",
       "      <td>&lt;11</td>\n",
       "      <td>&gt;=16to&lt;18</td>\n",
       "      <td>&lt;11</td>\n",
       "    </tr>\n",
       "    <tr>\n",
       "      <th>2</th>\n",
       "      <td>22057</td>\n",
       "      <td>2022-05-23</td>\n",
       "      <td>6</td>\n",
       "      <td>12</td>\n",
       "      <td>18</td>\n",
       "      <td>21</td>\n",
       "      <td>35</td>\n",
       "      <td>1</td>\n",
       "      <td>2</td>\n",
       "      <td>0</td>\n",
       "      <td>0</td>\n",
       "      <td>1</td>\n",
       "      <td>1</td>\n",
       "      <td>&gt;=18</td>\n",
       "      <td>&gt;=18</td>\n",
       "      <td>&gt;=18</td>\n",
       "      <td>&lt;11</td>\n",
       "    </tr>\n",
       "    <tr>\n",
       "      <th>3</th>\n",
       "      <td>22056</td>\n",
       "      <td>2022-05-21</td>\n",
       "      <td>2</td>\n",
       "      <td>11</td>\n",
       "      <td>15</td>\n",
       "      <td>17</td>\n",
       "      <td>31</td>\n",
       "      <td>1</td>\n",
       "      <td>0</td>\n",
       "      <td>0</td>\n",
       "      <td>1</td>\n",
       "      <td>1</td>\n",
       "      <td>2</td>\n",
       "      <td>&lt;11</td>\n",
       "      <td>&gt;=18</td>\n",
       "      <td>&gt;=18</td>\n",
       "      <td>&lt;11</td>\n",
       "    </tr>\n",
       "    <tr>\n",
       "      <th>4</th>\n",
       "      <td>22055</td>\n",
       "      <td>2022-05-18</td>\n",
       "      <td>1</td>\n",
       "      <td>2</td>\n",
       "      <td>12</td>\n",
       "      <td>15</td>\n",
       "      <td>23</td>\n",
       "      <td>2</td>\n",
       "      <td>1</td>\n",
       "      <td>0</td>\n",
       "      <td>0</td>\n",
       "      <td>0</td>\n",
       "      <td>2</td>\n",
       "      <td>&lt;11</td>\n",
       "      <td>&gt;=16to&lt;18</td>\n",
       "      <td>&gt;=16to&lt;18</td>\n",
       "      <td>&lt;11</td>\n",
       "    </tr>\n",
       "  </tbody>\n",
       "</table>\n",
       "</div>"
      ],
      "text/plain": [
       "      期号          日期  H1  H2  H3  H4  H5  <11  >=11to<13  >=13to<14  \\\n",
       "0  22059  2022-05-28   4  15  18  32  34    1          1          0   \n",
       "1  22058  2022-05-25   3   4  24  26  35    2          0          1   \n",
       "2  22057  2022-05-23   6  12  18  21  35    1          2          0   \n",
       "3  22056  2022-05-21   2  11  15  17  31    1          0          0   \n",
       "4  22055  2022-05-18   1   2  12  15  23    2          1          0   \n",
       "\n",
       "   >=14to<16  >=16to<18  >=18  max3       max5       max8 max13  \n",
       "0          2          0     1   <11        <11       >=18   <11  \n",
       "1          1          1     0   <11        <11  >=16to<18   <11  \n",
       "2          0          1     1  >=18       >=18       >=18   <11  \n",
       "3          1          1     2   <11       >=18       >=18   <11  \n",
       "4          0          0     2   <11  >=16to<18  >=16to<18   <11  "
      ]
     },
     "execution_count": 4,
     "metadata": {},
     "output_type": "execute_result"
    }
   ],
   "source": [
    "# 100期红球\n",
    "# 统计100期间个球累计出击次数[<<13, >=13to<15, >=15to<16, >=16to<19, >=19to<23, >=23],分5个区间;\n",
    "df_hq = df.loc[:,['期号','日期','H1','H2','H3','H4','H5']]\n",
    "df_hq100 = df_hq.copy()\n",
    "columns100 = ['<11', '>=11to<13', '>=13to<14', '>=14to<16', '>=16to<18', '>=18', 'max3', 'max5', 'max8', 'max13'] \n",
    "#columns25 = ['<=2', '3', '4', '5', '6', '>=7', 'max3', 'max5', 'max8', 'max13'] \n",
    "for i in columns100:\n",
    "    df_hq100[i] = 0\n",
    "dd_text100 = list(df_hq100.columns[7:13])\n",
    "dd_sum100 = list(df_hq100.columns[-4:])\n",
    "\n",
    "qishu = 50\n",
    "for i_qs in range(qishu):\n",
    "    df1 = df_hq100[i_qs+1:100+i_qs+1]\n",
    "    df2 = df1.iloc[:,2:7]\n",
    "    dd = []\n",
    "    h1 = df2['H1'].values\n",
    "    h2 = df2['H2'].values\n",
    "    h3 = df2['H3'].values\n",
    "    h4 = df2['H4'].values\n",
    "    h5 = df2['H5'].values\n",
    "    dd = list(h1.copy())\n",
    "    dd.extend(h2)\n",
    "    dd.extend(h3)\n",
    "    dd.extend(h4)\n",
    "    dd.extend(h5)\n",
    "    \n",
    "    dd1 = set(dd)  #('本轮100期间，出现过的红球有如下：', dd1)\n",
    "    dd2 = []\n",
    "    dd3 = []\n",
    "    dd4 = []\n",
    "    dd5 = []\n",
    "    dd6 = []\n",
    "    dd7 = []\n",
    "    a = 0\n",
    "    for i in dd1:\n",
    "        for ii in dd:\n",
    "            if i==ii:\n",
    "                a = a+1\n",
    "        if a>=1 and a<11:\n",
    "            dd2.append(i)\n",
    "        elif a>=11 and a<13:\n",
    "            dd3.append(i)\n",
    "        elif a>=13 and a<14:\n",
    "            dd4.append(i)\n",
    "        elif a>=14 and a<16:\n",
    "            dd5.append(i)\n",
    "        elif a>=16 and a<18:\n",
    "            dd6.append(i)\n",
    "        elif a>=18:\n",
    "            dd7.append(i)\n",
    "        a = 0\n",
    "    dd_len = [len(dd2),len(dd3),len(dd4),len(dd5),len(dd6),len(dd7)]\n",
    "    dd_list = [dd2,dd3,dd4,dd5,dd6,dd7]\n",
    "    H1 = df_hq['H1'][i_qs]\n",
    "    H2 = df_hq['H2'][i_qs]\n",
    "    H3 = df_hq['H3'][i_qs]\n",
    "    H4 = df_hq['H4'][i_qs]\n",
    "    H5 = df_hq['H5'][i_qs]\n",
    "    \n",
    "    for i in range(len(dd_list)):\n",
    "        a = 0\n",
    "        if H1 in dd_list[i]:\n",
    "            i1 = i\n",
    "            a += 1\n",
    "        if H2 in dd_list[i]:\n",
    "            i2 = i\n",
    "            a += 1\n",
    "        if H3 in dd_list[i]:\n",
    "            i3 = i\n",
    "            a += 1\n",
    "        if H4 in dd_list[i]:\n",
    "            i4 = i\n",
    "            a += 1\n",
    "        if H5 in dd_list[i]:\n",
    "            i5 = i\n",
    "            a += 1\n",
    "        df_hq100[dd_text100[i]][i_qs] = a        \n",
    "    \n",
    "    if i_qs<=4 : \n",
    "        #print(df_lq['期号'][i_qs],'期以后的近100期出现过的篮球有如下：', dd1)\n",
    "        print('统计此轮近100期间红球累计出击次数分6个区间', dd_text100, '=', dd_len)\n",
    "        print(dd_list)\n",
    "        print('此轮红球', [H1,H2,H3,H4,H5], '出现的区间为：', dd_text100[i1], dd_text100[i2], dd_text100[i3], dd_text100[i4], dd_text100[i5])\n",
    "        print('-'*118)\n",
    "\n",
    "\n",
    "s = [3,5,8,13]\n",
    "sum_list = []\n",
    "sum_all3 = []\n",
    "sum_all5 = []\n",
    "sum_all8 = []\n",
    "sum_all13 = []\n",
    "for i_qs in range(qishu-13):\n",
    "    sum_list = []\n",
    "    sum_list0 = []\n",
    "    for i in dd_text100:\n",
    "        sum_list0.append(df_hq100[i][i_qs : i_qs+3].sum())\n",
    "    sum_all3.append(sum_list0)\n",
    "    sum_list.append(sum_list0)\n",
    "    sum_list0 = []\n",
    "    for i in dd_text100:\n",
    "        sum_list0.append(df_hq100[i][i_qs : i_qs+5].sum())\n",
    "    sum_all5.append(sum_list0)\n",
    "    sum_list.append(sum_list0)\n",
    "    sum_list0 = []\n",
    "    for i in dd_text100:\n",
    "        sum_list0.append(df_hq100[i][i_qs : i_qs+8].sum())\n",
    "    sum_all8.append(sum_list0)\n",
    "    sum_list.append(sum_list0)\n",
    "    sum_list0 = []\n",
    "    for i in dd_text100:\n",
    "        sum_list0.append(df_hq100[i][i_qs : i_qs+13].sum())\n",
    "    sum_all13.append(sum_list0)\n",
    "    sum_list.append(sum_list0)\n",
    "    \n",
    "    for i1 in range(len(sum_list)):\n",
    "        for i2 in range(len(sum_list[i1])):\n",
    "            if sum_list[i1][i2] == np.array(sum_list[i1]).max():\n",
    "                #print('ii=', ii, sum_list[ii], dd_text100[ii] )\n",
    "                df_hq100[dd_sum100[i1]][i_qs] = dd_text100[i2]\n",
    "\n",
    "    if i_qs <=4:\n",
    "        print('sum_list =', sum_list)\n",
    "df_hq100.head()\n",
    "\n"
   ]
  },
  {
   "cell_type": "code",
   "execution_count": 5,
   "metadata": {},
   "outputs": [
    {
     "data": {
      "text/plain": [
       "(37, 6)"
      ]
     },
     "execution_count": 5,
     "metadata": {},
     "output_type": "execute_result"
    }
   ],
   "source": [
    "df_sum3 = pd.DataFrame(sum_all3, columns=dd_text100)\n",
    "df_sum3.shape"
   ]
  },
  {
   "cell_type": "code",
   "execution_count": 6,
   "metadata": {},
   "outputs": [
    {
     "data": {
      "text/plain": [
       "(37, 6)"
      ]
     },
     "execution_count": 6,
     "metadata": {},
     "output_type": "execute_result"
    }
   ],
   "source": [
    "df_sum5 = pd.DataFrame(sum_all5, columns=dd_text100)\n",
    "df_sum5.shape"
   ]
  },
  {
   "cell_type": "code",
   "execution_count": 7,
   "metadata": {},
   "outputs": [
    {
     "data": {
      "text/plain": [
       "(37, 6)"
      ]
     },
     "execution_count": 7,
     "metadata": {},
     "output_type": "execute_result"
    }
   ],
   "source": [
    "df_sum8 = pd.DataFrame(sum_all8, columns=dd_text100)\n",
    "df_sum8.shape"
   ]
  },
  {
   "cell_type": "code",
   "execution_count": 8,
   "metadata": {},
   "outputs": [
    {
     "data": {
      "text/plain": [
       "(37, 6)"
      ]
     },
     "execution_count": 8,
     "metadata": {},
     "output_type": "execute_result"
    }
   ],
   "source": [
    "df_sum13 = pd.DataFrame(sum_all13, columns=dd_text100)\n",
    "df_sum13.shape"
   ]
  },
  {
   "cell_type": "code",
   "execution_count": 9,
   "metadata": {},
   "outputs": [
    {
     "data": {
      "text/html": [
       "<div>\n",
       "<style scoped>\n",
       "    .dataframe tbody tr th:only-of-type {\n",
       "        vertical-align: middle;\n",
       "    }\n",
       "\n",
       "    .dataframe tbody tr th {\n",
       "        vertical-align: top;\n",
       "    }\n",
       "\n",
       "    .dataframe thead th {\n",
       "        text-align: right;\n",
       "    }\n",
       "</style>\n",
       "<table border=\"1\" class=\"dataframe\">\n",
       "  <thead>\n",
       "    <tr style=\"text-align: right;\">\n",
       "      <th></th>\n",
       "      <th>&lt;11</th>\n",
       "      <th>&gt;=11to&lt;13</th>\n",
       "      <th>&gt;=13to&lt;14</th>\n",
       "      <th>&gt;=14to&lt;16</th>\n",
       "      <th>&gt;=16to&lt;18</th>\n",
       "      <th>&gt;=18</th>\n",
       "    </tr>\n",
       "  </thead>\n",
       "  <tbody>\n",
       "    <tr>\n",
       "      <th>0</th>\n",
       "      <td>15</td>\n",
       "      <td>8</td>\n",
       "      <td>4</td>\n",
       "      <td>13</td>\n",
       "      <td>12</td>\n",
       "      <td>13</td>\n",
       "    </tr>\n",
       "    <tr>\n",
       "      <th>1</th>\n",
       "      <td>17</td>\n",
       "      <td>7</td>\n",
       "      <td>4</td>\n",
       "      <td>12</td>\n",
       "      <td>12</td>\n",
       "      <td>13</td>\n",
       "    </tr>\n",
       "    <tr>\n",
       "      <th>2</th>\n",
       "      <td>17</td>\n",
       "      <td>7</td>\n",
       "      <td>4</td>\n",
       "      <td>11</td>\n",
       "      <td>12</td>\n",
       "      <td>14</td>\n",
       "    </tr>\n",
       "    <tr>\n",
       "      <th>3</th>\n",
       "      <td>16</td>\n",
       "      <td>6</td>\n",
       "      <td>4</td>\n",
       "      <td>13</td>\n",
       "      <td>11</td>\n",
       "      <td>15</td>\n",
       "    </tr>\n",
       "    <tr>\n",
       "      <th>4</th>\n",
       "      <td>16</td>\n",
       "      <td>6</td>\n",
       "      <td>5</td>\n",
       "      <td>12</td>\n",
       "      <td>11</td>\n",
       "      <td>15</td>\n",
       "    </tr>\n",
       "  </tbody>\n",
       "</table>\n",
       "</div>"
      ],
      "text/plain": [
       "   <11  >=11to<13  >=13to<14  >=14to<16  >=16to<18  >=18\n",
       "0   15          8          4         13         12    13\n",
       "1   17          7          4         12         12    13\n",
       "2   17          7          4         11         12    14\n",
       "3   16          6          4         13         11    15\n",
       "4   16          6          5         12         11    15"
      ]
     },
     "execution_count": 9,
     "metadata": {},
     "output_type": "execute_result"
    }
   ],
   "source": [
    "df_sum13.head()"
   ]
  },
  {
   "cell_type": "code",
   "execution_count": null,
   "metadata": {},
   "outputs": [],
   "source": []
  },
  {
   "cell_type": "code",
   "execution_count": 10,
   "metadata": {},
   "outputs": [],
   "source": [
    "# 画图\n",
    "# 导入需要的函数\n",
    "from bokeh.plotting import figure, output_notebook, show\n",
    "#import seaborn as sns\n",
    "from matplotlib import pyplot as plt\n"
   ]
  },
  {
   "cell_type": "code",
   "execution_count": 11,
   "metadata": {},
   "outputs": [
    {
     "name": "stdout",
     "output_type": "stream",
     "text": [
      "<11出击区间次数sum3值\n"
     ]
    },
    {
     "data": {
      "text/plain": [
       "<Figure size 4000x1200 with 0 Axes>"
      ]
     },
     "metadata": {},
     "output_type": "display_data"
    },
    {
     "data": {
      "image/png": "[encoded data removed]",
      "text/plain": [
       "<Figure size 432x288 with 1 Axes>"
      ]
     },
     "metadata": {
      "needs_background": "light"
     },
     "output_type": "display_data"
    },
    {
     "name": "stdout",
     "output_type": "stream",
     "text": [
      ">=11to<13出击区间次数sum3值\n"
     ]
    },
    {
     "data": {
      "text/plain": [
       "<Figure size 4000x1200 with 0 Axes>"
      ]
     },
     "metadata": {},
     "output_type": "display_data"
    },
    {
     "data": {
      "image/png": "[encoded data removed]",
      "text/plain": [
       "<Figure size 432x288 with 1 Axes>"
      ]
     },
     "metadata": {
      "needs_background": "light"
     },
     "output_type": "display_data"
    },
    {
     "name": "stdout",
     "output_type": "stream",
     "text": [
      ">=13to<14出击区间次数sum3值\n"
     ]
    },
    {
     "data": {
      "text/plain": [
       "<Figure size 4000x1200 with 0 Axes>"
      ]
     },
     "metadata": {},
     "output_type": "display_data"
    },
    {
     "data": {
      "image/png": "[encoded data removed]",
      "text/plain": [
       "<Figure size 432x288 with 1 Axes>"
      ]
     },
     "metadata": {
      "needs_background": "light"
     },
     "output_type": "display_data"
    },
    {
     "name": "stdout",
     "output_type": "stream",
     "text": [
      ">=14to<16出击区间次数sum3值\n"
     ]
    },
    {
     "data": {
      "text/plain": [
       "<Figure size 4000x1200 with 0 Axes>"
      ]
     },
     "metadata": {},
     "output_type": "display_data"
    },
    {
     "data": {
      "image/png": "[encoded data removed]",
      "text/plain": [
       "<Figure size 432x288 with 1 Axes>"
      ]
     },
     "metadata": {
      "needs_background": "light"
     },
     "output_type": "display_data"
    },
    {
     "name": "stdout",
     "output_type": "stream",
     "text": [
      ">=16to<18出击区间次数sum3值\n"
     ]
    },
    {
     "data": {
      "text/plain": [
       "<Figure size 4000x1200 with 0 Axes>"
      ]
     },
     "metadata": {},
     "output_type": "display_data"
    },
    {
     "data": {
      "image/png": "[encoded data removed]",
      "text/plain": [
       "<Figure size 432x288 with 1 Axes>"
      ]
     },
     "metadata": {
      "needs_background": "light"
     },
     "output_type": "display_data"
    },
    {
     "name": "stdout",
     "output_type": "stream",
     "text": [
      ">=18出击区间次数sum3值\n"
     ]
    },
    {
     "data": {
      "text/plain": [
       "<Figure size 4000x1200 with 0 Axes>"
      ]
     },
     "metadata": {},
     "output_type": "display_data"
    },
    {
     "data": {
      "image/png": "[encoded data removed]",
      "text/plain": [
       "<Figure size 432x288 with 1 Axes>"
      ]
     },
     "metadata": {
      "needs_background": "light"
     },
     "output_type": "display_data"
    }
   ],
   "source": [
    "# 循环遍历ce中各球画出每13期移动出击次数线\n",
    "c = list(df_sum13.columns)\n",
    "for i in c:\n",
    "    # 计算x/y的数据\n",
    "    y = list(df_sum13[i].values)\n",
    "    x = list(df_sum13.index)\n",
    "    # 创建画布 p，设置 x_axis_type='datetime'\n",
    "    plt.figure(figsize=(20,6),dpi=200)\n",
    "    plt.figure()\n",
    "    print(i+'出击区间次数sum3值')\n",
    "    plt.plot(x, y)\n",
    "    plt.title = i+'出击区间次数sum3值'\n",
    "    plt.show()\n",
    "    "
   ]
  },
  {
   "cell_type": "markdown",
   "metadata": {},
   "source": [
    "[15, 21, 23, 27],  \n",
    "\n",
    "[4, 14, 28, 31, 34]\n",
    "\n",
    "[3, 6, 13, 22, 24, 32]"
   ]
  },
  {
   "cell_type": "code",
   "execution_count": 12,
   "metadata": {},
   "outputs": [
    {
     "name": "stdout",
     "output_type": "stream",
     "text": [
      "## {34, 4, 14, 15, 21, 23, 27, 28, 31}\n"
     ]
    },
    {
     "data": {
      "text/plain": [
       "126.0"
      ]
     },
     "execution_count": 12,
     "metadata": {},
     "output_type": "execute_result"
    }
   ],
   "source": [
    "bb = [15, 21, 23, 27, 4, 14, 28, 31, 34]\n",
    "a = set(bb)\n",
    "print('##', a)\n",
    "a1 = comb(len(a), 5)\n",
    "a1"
   ]
  },
  {
   "cell_type": "code",
   "execution_count": 13,
   "metadata": {},
   "outputs": [
    {
     "name": "stdout",
     "output_type": "stream",
     "text": [
      "## {32, 34, 3, 4, 6, 13, 14, 22, 24, 28, 31}\n"
     ]
    }
   ],
   "source": [
    "bb = [4, 14, 28, 31, 34, 3, 6, 13, 22, 24, 32]\n",
    "b = set(bb)\n",
    "print('##', b)\n"
   ]
  },
  {
   "cell_type": "markdown",
   "metadata": {},
   "source": [
    "## {4, 14, 15, 21, 23, 27, 28, 31, 34}"
   ]
  },
  {
   "cell_type": "code",
   "execution_count": 14,
   "metadata": {},
   "outputs": [
    {
     "name": "stdout",
     "output_type": "stream",
     "text": [
      "len(a)= 9\n"
     ]
    },
    {
     "data": {
      "text/plain": [
       "{4, 14, 15, 21, 23, 27, 28, 31, 34}"
      ]
     },
     "execution_count": 14,
     "metadata": {},
     "output_type": "execute_result"
    }
   ],
   "source": [
    "print('len(a)=', len(a))\n",
    "a"
   ]
  },
  {
   "cell_type": "code",
   "execution_count": 15,
   "metadata": {},
   "outputs": [
    {
     "name": "stdout",
     "output_type": "stream",
     "text": [
      "len(b)= 11\n"
     ]
    },
    {
     "data": {
      "text/plain": [
       "{3, 4, 6, 13, 14, 22, 24, 28, 31, 32, 34}"
      ]
     },
     "execution_count": 15,
     "metadata": {},
     "output_type": "execute_result"
    }
   ],
   "source": [
    "print('len(b)=', len(b))\n",
    "b"
   ]
  },
  {
   "cell_type": "markdown",
   "metadata": {},
   "source": [
    "## 2022-05-29推荐：\n",
    "## 胆：[15, 21, 23, 27]\n",
    "## 拖：{3, 4, 6, 13, 14, 22, 24, 28, 31, 32, 34}\n",
    "## 后区：[4,12]"
   ]
  },
  {
   "cell_type": "markdown",
   "metadata": {},
   "source": [
    "[15, 21, 23, 27],  \n",
    "\n",
    "[4, 14, 28, 31, 34]\n",
    "\n",
    "[3, 6, 13, 22, 24, 32]"
   ]
  },
  {
   "cell_type": "code",
   "execution_count": 16,
   "metadata": {},
   "outputs": [
    {
     "data": {
      "text/plain": [
       "<Figure size 4000x1200 with 0 Axes>"
      ]
     },
     "metadata": {},
     "output_type": "display_data"
    },
    {
     "data": {
      "image/png": "[encoded data removed]",
      "text/plain": [
       "<Figure size 432x288 with 1 Axes>"
      ]
     },
     "metadata": {
      "needs_background": "light"
     },
     "output_type": "display_data"
    }
   ],
   "source": [
    "# 循环遍历ce中各球画出每13期移动出击次数线\n",
    "c = list(df_sum13.columns)\n",
    "# 计算x/y的数据\n",
    "y = list(df_sum13[c].values)\n",
    "x = list(df_sum13.index)\n",
    "# 创建画布 p，设置 x_axis_type='datetime'\n",
    "plt.figure(figsize=(20,6),dpi=200)\n",
    "plt.figure()\n",
    "# print(i+'出击区间次数sum3值')\n",
    "plt.plot(x, y)\n",
    "# plt.title = i+'出击区间次数sum3值'\n",
    "plt.show()\n",
    "    "
   ]
  },
  {
   "cell_type": "code",
   "execution_count": null,
   "metadata": {},
   "outputs": [],
   "source": []
  },
  {
   "cell_type": "code",
   "execution_count": 17,
   "metadata": {},
   "outputs": [
    {
     "data": {
      "text/plain": [
       "'2022-05-29 03:33:33'"
      ]
     },
     "execution_count": 17,
     "metadata": {},
     "output_type": "execute_result"
    }
   ],
   "source": [
    "# 取当前日期和时间\n",
    "date1 = (time.strftime(\"%Y-%m-%d %H:%M:%S\", time.localtime()))\n",
    "date1"
   ]
  },
  {
   "cell_type": "code",
   "execution_count": 18,
   "metadata": {},
   "outputs": [
    {
     "name": "stdout",
     "output_type": "stream",
     "text": [
      "所用时间： 3\n"
     ]
    }
   ],
   "source": [
    "print('所用时间：', int(date1[-2:])-int(date[-2:]))"
   ]
  },
  {
   "cell_type": "code",
   "execution_count": null,
   "metadata": {},
   "outputs": [],
   "source": []
  },
  {
   "cell_type": "code",
   "execution_count": null,
   "metadata": {},
   "outputs": [],
   "source": []
  },
  {
   "cell_type": "code",
   "execution_count": null,
   "metadata": {},
   "outputs": [],
   "source": []
  },
  {
   "cell_type": "code",
   "execution_count": null,
   "metadata": {},
   "outputs": [],
   "source": []
  },
  {
   "cell_type": "code",
   "execution_count": null,
   "metadata": {},
   "outputs": [],
   "source": []
  },
  {
   "cell_type": "code",
   "execution_count": null,
   "metadata": {},
   "outputs": [],
   "source": []
  }
 ],
 "metadata": {
  "kernelspec": {
   "display_name": "Python 3 (ipykernel)",
   "language": "python",
   "name": "python3"
  },
  "language_info": {
   "codemirror_mode": {
    "name": "ipython",
    "version": 3
   },
   "file_extension": ".py",
   "mimetype": "text/x-python",
   "name": "python",
   "nbconvert_exporter": "python",
   "pygments_lexer": "ipython3",
   "version": "3.8.11"
  }
 },
 "nbformat": 4,
 "nbformat_minor": 2
}
