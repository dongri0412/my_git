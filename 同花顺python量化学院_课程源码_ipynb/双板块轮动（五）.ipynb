{
 "cells": [
  {
   "cell_type": "markdown",
   "metadata": {},
   "source": [
    "## 双板块轮动（五）"
   ]
  },
  {
   "cell_type": "code",
   "execution_count": null,
   "metadata": {},
   "outputs": [],
   "source": []
  },
  {
   "cell_type": "code",
   "execution_count": null,
   "metadata": {},
   "outputs": [],
   "source": [
    "#==================================================================================================== \n",
    "#==================================================================================================== \n",
    "# 双板块轮动（五）\n",
    "#初始化函数，设置初始条件\n",
    "def init(context):   \n",
    "    run_weekly(trade,date_rule=1)\n",
    "#==================================================================================================== \n",
    "#==================================================================================================== \n",
    "#判断两个板块的牛熊值\n",
    "def jinrong(context,bar_dict):  \n",
    "    price = history('399240.SZ', ['close'], 25, '1d')\n",
    "    p20=price['close'].iloc[-20]\n",
    "    p1=price['close'].iloc[-1]\n",
    "    n=(p1-p20)/p20\n",
    "    return n\n",
    "    #输出金融板块的强弱值\n",
    "def xiaofei(context,bar_dict):\n",
    "    price = history('000036.SH', ['close'], 25, '1d')\n",
    "    p20=price['close'].iloc[-20]\n",
    "    p1=price['close'].iloc[-1]\n",
    "    m=(p1-p20)/p20\n",
    "    return m\n",
    "    #输出消费板块的强弱值\n",
    "#==================================================================================================== \n",
    "#==================================================================================================== \n",
    "def trade(context,bar_dict):\n",
    "    n=jinrong(context,bar_dict)\n",
    "    m=xiaofei(context,bar_dict)\n",
    "    #如果两者都弱，则判断是否有持仓，有持仓就卖出\n",
    "    if n <= 0 and m <= 0:\n",
    "        if len(list(context.portfolio.stock_account.positions.keys())) > 0:\n",
    "            for stock in list(context.portfolio.stock_account.positions.keys()):\n",
    "                order_target(stock, 0)\n",
    "    #第二情况，如果其中一者是强的，那么持有弱的卖出弱的，未持有强的买入强的，\n",
    "    elif n > m:\n",
    "        if '159928.OF' in list(context.portfolio.stock_account.positions.keys()):\n",
    "            order_target('159928.OF', 0)\n",
    "        if len(list(context.portfolio.stock_account.positions.keys())) < 1:\n",
    "            order_target_value('510230.OF', context.portfolio.stock_account.available_cash)\n",
    "            #context.cash是账户可用资金，实时变动，保持最新\n",
    "    elif n < m:\n",
    "        if '510230.OF' in list(context.portfolio.stock_account.positions.keys()):\n",
    "            order_target('510230.OF', 0)\n",
    "        if len(list(context.portfolio.stock_account.positions.keys())) < 1:\n",
    "            order_target_value('159928.OF', context.portfolio.stock_account.available_cash)\n",
    "#==================================================================================================== \n",
    "#====================================================================================================\n",
    "\n"
   ]
  },
  {
   "cell_type": "code",
   "execution_count": null,
   "metadata": {},
   "outputs": [],
   "source": []
  },
  {
   "cell_type": "code",
   "execution_count": null,
   "metadata": {},
   "outputs": [],
   "source": []
  }
 ],
 "metadata": {
  "kernelspec": {
   "display_name": "Python 3",
   "language": "python",
   "name": "python3"
  },
  "language_info": {
   "codemirror_mode": {
    "name": "ipython",
    "version": 3
   },
   "file_extension": ".py",
   "mimetype": "text/x-python",
   "name": "python",
   "nbconvert_exporter": "python",
   "pygments_lexer": "ipython3",
   "version": "3.5.2"
  }
 },
 "nbformat": 4,
 "nbformat_minor": 2
}
