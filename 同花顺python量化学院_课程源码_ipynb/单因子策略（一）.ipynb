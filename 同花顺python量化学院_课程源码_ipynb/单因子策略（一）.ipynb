{
 "cells": [
  {
   "cell_type": "markdown",
   "metadata": {},
   "source": [
    "## 单因子策略（一）"
   ]
  },
  {
   "cell_type": "code",
   "execution_count": null,
   "metadata": {},
   "outputs": [],
   "source": []
  },
  {
   "cell_type": "code",
   "execution_count": null,
   "metadata": {},
   "outputs": [],
   "source": [
    "#============================================================\n",
    "# 单因子策略（一）\n",
    "#在编写策略时，我们首先需要大致确定一下我们编写过程需要用到的几个Python包，比如numpy.pandas.datetime，您\n",
    "#需要根据您的需求，在策略的最上方进行导包操作。\n",
    "from datetime import timedelta, date\n",
    "#导入datetime相关包\n",
    "import pandas as pd\n",
    "#导入pandas包，用于数据分析。\n",
    "#==================================================================\n",
    "#==================================================================\n",
    "\n",
    "#首先我们需要一个策略初始化函数，其功能相当于开户。\n",
    "def init(context):\n",
    "#def是Python语言创建函数的标志，initialize是函数名称，这里是初始化函数，（context）是账户信息对象，也就是\n",
    "#该初始化函数中，只有初始一些账户信息。并且该函数只运行一次，相当于开户只需要一次就可以了。\n",
    "    context.n = 15 \n",
    "    #设置n=15，并将其放到账户信息中，主要为了控制持股数量，控制到15个及以内。\n",
    "    run_monthly(trade,date_rule=-1)\n",
    "    #按月运行函数run_monthly（a,b），其中里面有两个参数，a是运行对象，这里是trade函数（详见34行代码），\n",
    "    #b是运行时间，这里是每个月倒数第一个交易日。\n",
    "#=======================================================================\n",
    "#=======================================================================\n",
    "#其次我们需要构建一个交易系统，使得整个策略能运行起来！\n",
    "def trade(context, bar_dict):\n",
    "#我们创建一个取名为trade的函数，用于交易，其中设置context参数，我们就可以到别的函数中的context对象中的信息\n",
    "#用到这里来，另外我们还有bar_dict参数，用于计算数据。\n",
    "    pb_list = stocks_pb(context,bar_dict)\n",
    "    #我们将stocks_pb(context,bar_dict)函数的选股结果导入pb_list对象\n",
    "    stock_list = list(set(pb_list))\n",
    "    #我们需要将pb_list对象的格式进行转化，使得运行不出错，直接用list(set(x))即可。其中set()是创建集合\n",
    "    #这里是创建股票集合，list()用来创建列表，这里是创建股票列表。\n",
    "    if len(list(context.portfolio.stock_account.positions.keys())) > 0:\n",
    "    #if 判断函数，len()是取长度数值，context.positions是账户持仓信息，len(context.positions)也就是\n",
    "    #当前持仓股票的数量，如果大于0，则进行下一步。\n",
    "        for stock in list(context.portfolio.stock_account.positions.keys()):\n",
    "        #for x in y 是循环函数，从y中逐一取出来设为x，这里的y是持仓个股列表。x是stock，将个股取出，\n",
    "        #stock中存放取出的个股，执行下一步，如果一个个股执行完毕，执行下一个个股，直到账户中所有持仓\n",
    "        #个股全部被执行后，跳出循环。\n",
    "            if stock not in stock_list:\n",
    "            #if判断函数，判断选股股票是否在选股函数列表，不在则运行下一步\n",
    "                order_target(stock, 0)\n",
    "                #order_target下单函数，stock是买卖的股，0是目前持仓，也就是清仓。\n",
    "    if len(stock_list) > 0:\n",
    "    #if 判断函数，判断选股列表中股票数量是否大于0\n",
    "        for stock in stock_list:\n",
    "        #for x in y循环函数，从股票列表中逐一取出个股\n",
    "            if stock not in list(context.portfolio.stock_account.positions.keys()):\n",
    "            #if判断函数，用于判断个股是否在个股持仓列表中。\n",
    "                if len(list(context.portfolio.stock_account.positions.keys())) < context.n :\n",
    "                #if 判断函数，用于判断持仓个股数，是否小于我们初始化设置的条件15个。\n",
    "                    number = context.n  - len(list(context.portfolio.stock_account.positions.keys()))\n",
    "                    #如果不超出，那么计算，我们还能买的个股数量\n",
    "                    order_value(stock,context.portfolio.stock_account.available_cash/number)\n",
    "                    #下单函数，执行买入，买入的金额为可用现金/可买个股数\n",
    "                else: \n",
    "                    order_value(stock,context.portfolio.stock_account.available_cash)\n",
    "                #else是if函数的衍生，如果个股数量等于或超过最大持仓，那么我们将剩下的资金全部买入\n",
    "\n",
    "#======================================================================\n",
    "#我们需要创建一个函数，其作用是选择我们股票，因子是pb市净率，来让我们的交易系统有股票可以买卖\n",
    "def stocks_pb(context,bar_dict):\n",
    "#我们创建一个取名为stocks_pb的函数，用于选股，其中设置context参数，我们就可以到别的函数中的context对象\n",
    "#中的信息用到这里来，另外我们还有bar_dict参数，用于计算数据。\n",
    "    last_date = get_last_datetime().strftime('%Y%m%d')\n",
    "    #get_last_datetime()函数用来获取回测的前一天的日期，后面的strftime('%Y%m%d')是用来转化成年月日的格式。\n",
    "    pb = get_fundamentals(query(valuation.symbol,valuation.pb\n",
    "                        ).filter(valuation.pb > 0,\n",
    "                        ).order_by(valuation.pb.asc()\n",
    "                        ),date = last_date)\n",
    "    #get_fundamentals是获取财务数据的函数，query(x)是获取对象，这里是股票和pb，filter(y)是用来筛选条件，这\n",
    "#里是pb>0，order_by(z)用来排序，将选择后的个股排序，这里是pb从小到大，date是日期，这里是回测前一日。\n",
    "#其中sec()是从小到大排序。\n",
    "    return list(pb['valuation_symbol'][:15])\n",
    "    #return用来输出函数的执行结果。这里是我们选择出来的股票列表的前15只个股。\n",
    "    \n",
    "    \n",
    "    "
   ]
  },
  {
   "cell_type": "code",
   "execution_count": null,
   "metadata": {},
   "outputs": [],
   "source": []
  },
  {
   "cell_type": "code",
   "execution_count": null,
   "metadata": {},
   "outputs": [],
   "source": []
  }
 ],
 "metadata": {
  "kernelspec": {
   "display_name": "Python 3",
   "language": "python",
   "name": "python3"
  },
  "language_info": {
   "codemirror_mode": {
    "name": "ipython",
    "version": 3
   },
   "file_extension": ".py",
   "mimetype": "text/x-python",
   "name": "python",
   "nbconvert_exporter": "python",
   "pygments_lexer": "ipython3",
   "version": "3.5.2"
  }
 },
 "nbformat": 4,
 "nbformat_minor": 2
}
