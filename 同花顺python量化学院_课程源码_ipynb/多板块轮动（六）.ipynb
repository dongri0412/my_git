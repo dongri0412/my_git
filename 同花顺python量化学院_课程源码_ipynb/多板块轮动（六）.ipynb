{
 "cells": [
  {
   "cell_type": "markdown",
   "metadata": {},
   "source": [
    "## 多板块轮动（六）"
   ]
  },
  {
   "cell_type": "code",
   "execution_count": null,
   "metadata": {},
   "outputs": [],
   "source": []
  },
  {
   "cell_type": "code",
   "execution_count": null,
   "metadata": {},
   "outputs": [],
   "source": [
    "#=====================================================================================================\n",
    "#=====================================================================================================\n",
    "# 多板块轮动（六）\n",
    "#导包操作\n",
    "import pandas as pd\n",
    "#=====================================================================================================\n",
    "#=====================================================================================================\n",
    "#初始化函数，用于初始条件，其中爱吃醋 context.security中确定策略判断的几大板块\n",
    "def init(context):   \n",
    "    run_monthly(trade,date_rule=3)\n",
    "    context.security=['150019.SZ','159901.OF','510050.OF',\n",
    "                      '159915.OF','510300.OF',\n",
    "                      '510500.OF','510180.OF',\n",
    "                      '159902.OF','159905.OF']\n",
    "                      #注意：格式可以一行，也可以多行，不影响代码运行，4行还只是context.security里的。\n",
    "#=====================================================================================================\n",
    "#=====================================================================================================\n",
    "#板块强弱衡量函数\n",
    "def bankuai(context,bar_dict):  \n",
    "    df={'security':[],'qd':[]}\n",
    "    stocks=context.security\n",
    "    for i in stocks:\n",
    "        df['security'].append(i)\n",
    "        price = history(i, ['close'], 25, '1d')\n",
    "        p20=price['close'].iloc[-20]\n",
    "        p1=price['close'].iloc[-1]\n",
    "        m=(p1-p20)/p20\n",
    "        df['qd'].append(m)\n",
    "    df = pd.DataFrame(df).sort_values(by ='qd', ascending=False)\n",
    "    x=df['qd'].iloc[0]\n",
    "    y=['123']\n",
    "    if x >0 :\n",
    "        return df['security'].iloc[0]\n",
    "    else:\n",
    "        return y\n",
    "    #直接输出最强的板块，如果所有板块都是负数，那么输出固定值y=['123']\n",
    "#=====================================================================================================\n",
    "#=====================================================================================================\n",
    "#交易函数\n",
    "def trade(context,bar_dict):\n",
    "    n=bankuai(context,bar_dict)\n",
    "    d=len(n)\n",
    "    #首先判断所有板块是否变弱，变弱则清仓\n",
    "    if d==1:\n",
    "        if len(list(context.portfolio.stock_account.positions.keys())) > 0:\n",
    "            for stock in list(context.portfolio.stock_account.positions.keys()):\n",
    "                order_target(stock, 0)\n",
    "    #其次判断最强板块是否是我们持仓的板块，不是则先卖持仓，后买最强板块。\n",
    "    else:\n",
    "        if n not in list(list(context.portfolio.stock_account.positions.keys())):\n",
    "            for stock in list(context.portfolio.stock_account.positions.keys()):\n",
    "                order_target(stock, 0)\n",
    "            if len(list(context.portfolio.stock_account.positions.keys())) < 1:\n",
    "                order_target_value(n, context.portfolio.stock_account.available_cash)\n",
    "#=====================================================================================================\n",
    "#=====================================================================================================\n",
    "#设置止损止盈\n",
    "def handle_bar(context,bar_dict):\n",
    "    n=bankuai(context,bar_dict)\n",
    "    d=len(n)\n",
    "    #判断函数，用于判断板块，如果所有板块都弱了,那么n是1，执行清仓。\n",
    "    if d==1:\n",
    "        if len(list(context.portfolio.stock_account.positions.keys())) > 0:\n",
    "            for stock in list(list(context.portfolio.stock_account.positions.keys())):\n",
    "                order_target(stock, 0)\n",
    "                \n",
    "                "
   ]
  },
  {
   "cell_type": "code",
   "execution_count": null,
   "metadata": {},
   "outputs": [],
   "source": []
  },
  {
   "cell_type": "code",
   "execution_count": null,
   "metadata": {},
   "outputs": [],
   "source": []
  }
 ],
 "metadata": {
  "kernelspec": {
   "display_name": "Python 3",
   "language": "python",
   "name": "python3"
  },
  "language_info": {
   "codemirror_mode": {
    "name": "ipython",
    "version": 3
   },
   "file_extension": ".py",
   "mimetype": "text/x-python",
   "name": "python",
   "nbconvert_exporter": "python",
   "pygments_lexer": "ipython3",
   "version": "3.5.2"
  }
 },
 "nbformat": 4,
 "nbformat_minor": 2
}
