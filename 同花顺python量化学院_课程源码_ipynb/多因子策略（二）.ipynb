{
 "cells": [
  {
   "cell_type": "markdown",
   "metadata": {},
   "source": [
    "## 多因子策略（二）"
   ]
  },
  {
   "cell_type": "code",
   "execution_count": null,
   "metadata": {},
   "outputs": [],
   "source": []
  },
  {
   "cell_type": "code",
   "execution_count": null,
   "metadata": {},
   "outputs": [],
   "source": [
    "#========================================================================================\n",
    "# 多因子策略（二）\n",
    "from datetime import timedelta, date\n",
    "import pandas as pd\n",
    "#导包操作，我们需要分析时间和数据的两个工具pandas、datetime\n",
    "#========================================================================================\n",
    "#========================================================================================\n",
    "#初始化函数，我们设置最大持股15个，设置交易频率为1-12月，设置trade函数每个月月末运行一次。\n",
    "def init(context):\n",
    "    context.n = 15 \n",
    "    run_monthly(trade,date_rule=-1)\n",
    "#========================================================================================\n",
    "#========================================================================================\n",
    "#设置交易函数，首先判断时间月份是够满足，随后获取选股函数的结果，将不符合的卖出后符合的买入。\n",
    "def trade(context, bar_dict):\n",
    "    pe_ttm_list = stocks_pe_ttm(context,bar_dict)\n",
    "    netProfitGrowthrate_list=stocks_netProfitGrowthrate(context,bar_dict)\n",
    "    ps_ttm_list=stocks_ps_ttm(context,bar_dict)\n",
    "    stock_list = list(set(pe_ttm_list)&set(ps_ttm_list)&set(netProfitGrowthrate_list))\n",
    "    #这条代码的&是且的意思，也就是三个set()全部满足的股票构成一个列表。\n",
    "    if len(list(context.portfolio.stock_account.positions.keys())) > 0:\n",
    "        for stock in list(context.portfolio.stock_account.positions.keys()):\n",
    "            if stock not in stock_list:\n",
    "                order_target(stock, 0)\n",
    "    if len(stock_list) > 0:\n",
    "        for stock in stock_list:\n",
    "            if stock not in list(context.portfolio.stock_account.positions.keys()):\n",
    "                if len(list(context.portfolio.stock_account.positions.keys())) < context.n :\n",
    "                    number = context.n  - len(list(context.portfolio.stock_account.positions.keys()))\n",
    "                    order_value(stock,context.portfolio.stock_account.available_cash/number)\n",
    "                else: \n",
    "                    order_value(stock,context.portfolio.stock_account.available_cash)\n",
    "#========================================================================================\n",
    "#========================================================================================\n",
    "#以下三个是自定义函数区，第一个是根据pe_ttm选股，第二个是净利润增长率，第三个是市销率。\n",
    "#三个选股函数性质一致，主要是靠62行代码将其整合，只有会整合，你可以设置很多选股函数，然后自由组合。\n",
    "def stocks_pe_ttm(context,bar_dict):\n",
    "    last_date = get_last_datetime().strftime('%Y%m%d')\n",
    "    pe_ttm = get_fundamentals(query(\n",
    "            valuation.symbol,\n",
    "            valuation.pe_ttm\n",
    "        ).filter(\n",
    "            valuation.pe_ttm > 0,\n",
    "        ).order_by(\n",
    "            valuation.pe_ttm.asc()\n",
    "        ),date = last_date)\n",
    "    #get_fundamentals是获取财务数据函数，query是对象，filter是筛选条件，order_by是排序，其中asc()是正序，\n",
    "    #desc()是逆序\n",
    "    n = len(pe_ttm)\n",
    "    #n是获取选股结果的数量\n",
    "    return list(pe_ttm['valuation_symbol'][:int(n*0.2)])\n",
    "    #int()是转成成数字格式\n",
    "    #return是输出函数结果，这里是前20%的个股\n",
    "def stocks_netProfitGrowthrate(context,bar_dict):\n",
    "    last_date = get_last_datetime().strftime('%Y%m%d')\n",
    "    net_profit_growth_ratio = get_fundamentals(query(\n",
    "                                  growth.symbol,\n",
    "                                  growth.net_profit_growth_ratio \n",
    "                                  ).filter(growth.net_profit_growth_ratio>0\n",
    "                                  ).order_by(growth.net_profit_growth_ratio.desc()\n",
    "                                  ),date = last_date)\n",
    "    n = len(net_profit_growth_ratio)\n",
    "    return list(net_profit_growth_ratio['growth_symbol'][:int(n*0.2)])\n",
    "def stocks_ps_ttm(context,bar_dict):\n",
    "    last_date = get_last_datetime().strftime('%Y%m%d')\n",
    "    ps_ttm = get_fundamentals(query(\n",
    "            valuation.symbol,\n",
    "            valuation.ps_ttm\n",
    "        ).filter(\n",
    "            valuation.ps_ttm>0\n",
    "        ).order_by(\n",
    "            valuation.ps_ttm.asc()      \n",
    "        ),date = last_date)\n",
    "    n=len(ps_ttm)\n",
    "    return list(ps_ttm['valuation_symbol'][:int(n*0.2)])\n",
    "#========================================================================================\n",
    "#========================================================================================\n",
    "\n"
   ]
  },
  {
   "cell_type": "code",
   "execution_count": null,
   "metadata": {},
   "outputs": [],
   "source": []
  },
  {
   "cell_type": "code",
   "execution_count": null,
   "metadata": {},
   "outputs": [],
   "source": []
  }
 ],
 "metadata": {
  "kernelspec": {
   "display_name": "Python 3",
   "language": "python",
   "name": "python3"
  },
  "language_info": {
   "codemirror_mode": {
    "name": "ipython",
    "version": 3
   },
   "file_extension": ".py",
   "mimetype": "text/x-python",
   "name": "python",
   "nbconvert_exporter": "python",
   "pygments_lexer": "ipython3",
   "version": "3.5.2"
  }
 },
 "nbformat": 4,
 "nbformat_minor": 2
}
