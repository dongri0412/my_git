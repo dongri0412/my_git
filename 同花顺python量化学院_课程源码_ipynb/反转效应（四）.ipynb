{
 "cells": [
  {
   "cell_type": "markdown",
   "metadata": {},
   "source": [
    "## 反转效应（四）"
   ]
  },
  {
   "cell_type": "code",
   "execution_count": null,
   "metadata": {},
   "outputs": [],
   "source": []
  },
  {
   "cell_type": "code",
   "execution_count": null,
   "metadata": {},
   "outputs": [],
   "source": [
    "#===================================================================================================\n",
    "# 反转效应（四）\n",
    "#导包操作\n",
    "from datetime import timedelta, date\n",
    "import pandas as pd\n",
    "#===================================================================================================\n",
    "#===================================================================================================\n",
    "#初始化函数，设置初始条件\n",
    "def init(context):\n",
    "    context.n = 25 \n",
    "    run_monthly(trade,date_rule=-1)\n",
    "    get_iwencai('沪深300,未停牌,上市时间超过2年')\n",
    "#===================================================================================================\n",
    "#===================================================================================================\n",
    "#止损止盈函数\n",
    "def handle_bar(context,bar_dict):\n",
    "    #获取账户持仓信息\n",
    "    holdstock = list(context.portfolio.stock_account.positions.keys()) \n",
    "    if len(holdstock) > 0:\n",
    "        num = -0.1\n",
    "        for stock in holdstock:\n",
    "            close = history(stock,['close'],1,'1d').values\n",
    "            if close/context.portfolio.positions[stock].last_price -1 <= num:\n",
    "                order_target(stock,0)\n",
    "                log.info('股票{}已止损'.format(stock))\n",
    "#===================================================================================================\n",
    "#===================================================================================================\n",
    "#选股函数\n",
    "def stocks_fz1(context,bar_dict):\n",
    "    df = {'security': [], '30zf': []}\n",
    "    stocks=context.iwencai_securities\n",
    "    for symbol in stocks:\n",
    "        df['security'].append(symbol)\n",
    "    for i in range(len(df['security'])):\n",
    "        quote = history(df['security'][i], ['quote_rate'], 30, '1d', True, fq='pre')\n",
    "        AMP30 = quote.values[:].sum()\n",
    "        df['30zf'].append(AMP30)\n",
    "    df = pd.DataFrame(df).sort_values(by ='30zf', ascending=True)\n",
    "    context.fz = df['security'][:50]\n",
    "    return context.fz\n",
    "def stocks_fz2(context,bar_dict):\n",
    "    df = {'security': [], '30cje': []}\n",
    "    security=stocks_fz1(context,bar_dict)\n",
    "    #该策略选股函数中，我们通过一个函数的结果，导到第二个函数中去运行，可以达到多步骤选股\n",
    "    stock=security\n",
    "    for symbol in stock:\n",
    "        df['security'].append(symbol)\n",
    "    for i in range(len(df['security'])):\n",
    "        quote = history(df['security'][i], ['turnover'], 30, '1d', True, fq='pre')\n",
    "        AMP30 = quote.values[:].sum()\n",
    "        df['30cje'].append(AMP30)\n",
    "    df = pd.DataFrame(df).sort_values(by ='30cje', ascending=True)\n",
    "    context.cje = df['security'][:25]\n",
    "    return context.cje\n",
    "#===================================================================================================\n",
    "#===================================================================================================\n",
    "#交易函数\n",
    "def trade(context, bar_dict):\n",
    "    fz_list = stocks_fz2(context,bar_dict)\n",
    "    stock_list = list(set(fz_list))\n",
    "    if len(list(context.portfolio.stock_account.positions.keys())) > 0:\n",
    "        for stock in list(context.portfolio.stock_account.positions.keys()):\n",
    "            if stock not in stock_list:\n",
    "                order_target(stock, 0)\n",
    "    if len(stock_list) > 0:\n",
    "        for stock in stock_list:\n",
    "            if stock not in list(context.portfolio.stock_account.positions.keys()):\n",
    "                if len(list(context.portfolio.stock_account.positions.keys())) < context.n :\n",
    "                    number = context.n  - len(list(context.portfolio.stock_account.positions.keys()))\n",
    "                    order_value(stock,context.portfolio.stock_account.available_cash/number)\n",
    "                else: \n",
    "                    order_value(stock,context.portfolio.stock_account.available_cash)\n",
    "\n",
    "                    "
   ]
  },
  {
   "cell_type": "code",
   "execution_count": null,
   "metadata": {},
   "outputs": [],
   "source": []
  },
  {
   "cell_type": "code",
   "execution_count": null,
   "metadata": {},
   "outputs": [],
   "source": []
  }
 ],
 "metadata": {
  "kernelspec": {
   "display_name": "Python 3",
   "language": "python",
   "name": "python3"
  },
  "language_info": {
   "codemirror_mode": {
    "name": "ipython",
    "version": 3
   },
   "file_extension": ".py",
   "mimetype": "text/x-python",
   "name": "python",
   "nbconvert_exporter": "python",
   "pygments_lexer": "ipython3",
   "version": "3.5.2"
  }
 },
 "nbformat": 4,
 "nbformat_minor": 2
}
