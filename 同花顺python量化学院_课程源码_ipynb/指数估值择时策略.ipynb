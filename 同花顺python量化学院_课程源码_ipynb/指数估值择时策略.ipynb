{
 "cells": [
  {
   "cell_type": "markdown",
   "metadata": {},
   "source": [
    "## 指数估值择时策略"
   ]
  },
  {
   "cell_type": "code",
   "execution_count": null,
   "metadata": {},
   "outputs": [],
   "source": []
  },
  {
   "cell_type": "code",
   "execution_count": null,
   "metadata": {},
   "outputs": [],
   "source": []
  },
  {
   "cell_type": "code",
   "execution_count": null,
   "metadata": {},
   "outputs": [],
   "source": [
    "import pandas as pd\n",
    "import numpy as np\n",
    "# 初始化函数,全局只运行一次\n",
    "def init(context):\n",
    "    # 设置要操作的指数\n",
    "    context.security = '000001.SH'\n",
    "    # 设置基准收益：上证指数\n",
    "    set_benchmark(context.security)\n",
    "    # 每周第一个交易日运行\n",
    "    run_monthly(trade,1)\n",
    "    # 估值的年限\n",
    "    context.year = 5\n",
    "    # 估值序列储存\n",
    "    context.pelist = []\n",
    "## 开盘时运行函数\n",
    "def trade(context, bar_dict):\n",
    "    # 获取时间\n",
    "    date =  get_last_datetime().strftime('%Y-%m-%d')\n",
    "    # 获取估值\n",
    "    pe_rate = get_index_valuation(context,date,context.security)\n",
    "    # 加入序列\n",
    "    context.pelist.append(pe_rate)\n",
    "    # 判定估值信号\n",
    "    if len(context.pelist)>1 and context.pelist[-2]<20 and context.pelist[-1]>=20:\n",
    "        # 全仓\n",
    "        order_target_percent(context.security,1)\n",
    "        # 打印\n",
    "        print('买入指数{}:当前估值百分位{}'.format(context.security,pe_rate))\n",
    "    elif len(context.pelist)>1 and context.pelist[-2]>80 and context.pelist[-1]<=80:\n",
    "        # 空仓\n",
    "        order_target(context.security,0)\n",
    "        # 打印\n",
    "        print('卖出指数{}:当前估值百分位{}'.format(context.security,pe_rate))\n",
    "# 创建函数：获取指数估值水平\n",
    "def get_index_valuation(context,date,index_code):\n",
    "    '''\n",
    "    输出：市盈率\n",
    "    '''\n",
    "    # 创建dataframe\n",
    "    datadf = pd.DataFrame(columns = ['PE'])\n",
    "    # 创建月初交易日列表\n",
    "    monthdatelist = []\n",
    "    # 获取日期\n",
    "    datelist = get_trade_days(None,date,context.year*250).strftime('%Y%m%d')\n",
    "    # 循环时间序列\n",
    "    for t in range(1,len(datelist)):\n",
    "        # 判断月度\n",
    "        if datelist[t-1][4:6]!=datelist[t][4:6]:\n",
    "            # 添加新月度日期\n",
    "            monthdatelist.append(datelist[t])\n",
    "    # 循环月度日期\n",
    "    for date in monthdatelist[-context.year*12:]:\n",
    "        # 调用指数估值指标计算函数\n",
    "        datadf.loc[date] = get_index_PB_PE_PB1(date,index_code)\n",
    "    # 最大值   \n",
    "    values_max = datadf.max()\n",
    "    # 最小值\n",
    "    values_min = datadf.min()\n",
    "    # 当前值\n",
    "    values_now = datadf.ix[-1]\n",
    "    # 百分位\n",
    "    T = (values_now - values_min)/(values_max - values_min)\n",
    "    # 输出\n",
    "    return round(T.PE,4)*100\n",
    "# 创建函数：指数估值指标计算\n",
    "def get_index_PB_PE_PB1(date,indexcode):\n",
    "    '''\n",
    "    函数使用注释：\n",
    "    输入：日期，指数代码\n",
    "    算法：中位数\n",
    "    输出：指数市盈率\n",
    "    '''\n",
    "    # 获取成份股\n",
    "    stocks = get_index_stocks(indexcode,date)\n",
    "    # 获取市盈率数据\n",
    "    q = query(factor.symbol,\n",
    "              factor.pe_ttm).filter(\n",
    "              factor.symbol.in_(stocks),\n",
    "              factor.date == date)\n",
    "    # 获取数据\n",
    "    df = get_factors(q)\n",
    "    # 计算中位数\n",
    "    PE_index = df.median().factor_pe_ttm\n",
    "    return [PE_index]"
   ]
  },
  {
   "cell_type": "code",
   "execution_count": null,
   "metadata": {},
   "outputs": [],
   "source": []
  },
  {
   "cell_type": "code",
   "execution_count": null,
   "metadata": {},
   "outputs": [],
   "source": []
  },
  {
   "cell_type": "code",
   "execution_count": null,
   "metadata": {},
   "outputs": [],
   "source": []
  }
 ],
 "metadata": {
  "kernelspec": {
   "display_name": "Python 3",
   "language": "python",
   "name": "python3"
  },
  "language_info": {
   "codemirror_mode": {
    "name": "ipython",
    "version": 3
   },
   "file_extension": ".py",
   "mimetype": "text/x-python",
   "name": "python",
   "nbconvert_exporter": "python",
   "pygments_lexer": "ipython3",
   "version": "3.5.2"
  }
 },
 "nbformat": 4,
 "nbformat_minor": 2
}
