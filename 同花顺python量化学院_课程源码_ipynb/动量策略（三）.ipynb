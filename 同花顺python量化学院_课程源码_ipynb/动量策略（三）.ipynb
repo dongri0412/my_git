{
 "cells": [
  {
   "cell_type": "markdown",
   "metadata": {},
   "source": [
    "## 动量策略（三）"
   ]
  },
  {
   "cell_type": "code",
   "execution_count": null,
   "metadata": {},
   "outputs": [],
   "source": []
  },
  {
   "cell_type": "code",
   "execution_count": null,
   "metadata": {},
   "outputs": [],
   "source": [
    "#==================================================================================================\n",
    "# 动量策略（三）\n",
    "#导包操作\n",
    "from datetime import timedelta, date\n",
    "import pandas as pd\n",
    "#==================================================================================================\n",
    "#==================================================================================================\n",
    "#初始化函数，设置初始条件\n",
    "def init(context):\n",
    "    context.n = 50\n",
    "    #设置最大持股\n",
    "    run_monthly(trade,date_rule=2)\n",
    "    #设置trade函数能每个月月初第二个交易日运行\n",
    "    get_iwencai('未停牌,上市时间超过2年')\n",
    "    #使用问财进行选股，每日执行一次，储存在context.iwencai_securities对象中\n",
    "#==================================================================================================\n",
    "#==================================================================================================\n",
    "#设置止损止盈，handle_bar是每日（分钟/tick）运行\n",
    "def handle_bar(context,bar_dict):\n",
    "    #获取账户持仓信息\n",
    "    holdstock = list(context.portfolio.stock_account.positions.keys()) \n",
    "    if len(holdstock) > 0:\n",
    "        num = -0.1\n",
    "        for stock in holdstock:\n",
    "            close = history(stock,['close'],1,'1d').values\n",
    "            if close/context.portfolio.positions[stock].last_price -1 <= num:\n",
    "                order_target(stock,0)\n",
    "                log.info('股票{}已止损'.format(stock))\n",
    "#==================================================================================================\n",
    "#==================================================================================================\n",
    "#选股函数，这里用字典选股\n",
    "def stocks_zf(context,bar_dict):\n",
    "    df = {'security': [], '30zf': []}\n",
    "    #创建字典，格式如上。'security'是键，[]是值。\n",
    "    stocks=context.iwencai_securities\n",
    "    #将问财选股结果导到stocks\n",
    "    for symbol in stocks:\n",
    "        df['security'].append(symbol)\n",
    "        #将依次选出的个股添加到字典的键'security'的值中，这里append是添加操作。\n",
    "    for i in range(len(df['security'])):\n",
    "        quote = history(df['security'][i], ['quote_rate'], 30, '1d', True, fq='pre')\n",
    "        #获取过去30日涨跌幅数据\n",
    "        AMP30 = quote.values[:].sum()\n",
    "        #将这些数据求和，直接是.sum()\n",
    "        df['30zf'].append(AMP30)\n",
    "        #将计算出的值添加到键中\n",
    "    df = pd.DataFrame(df).sort_values(by ='30zf', ascending=False)\n",
    "    #pd.bar_dictFrame(df)将字典转化成bar_dictFrame格式，.sort_values是排序，by是以XX为标准排序，ascending=False\n",
    "    #是从大到小排序。\n",
    "    context.sample = df['security'][:50]\n",
    "    #截取排序后的DF格式的前50个股票，并输出\n",
    "    return context.sample\n",
    "#==================================================================================================\n",
    "#==================================================================================================\n",
    "def trade(context, bar_dict):\n",
    "    zf_list = stocks_zf(context,bar_dict)\n",
    "    #将选股函数的结果导到zf_list中，用于交易函数运行。\n",
    "    stock_list = list(set(zf_list))\n",
    "    if len(list(context.portfolio.stock_account.positions.keys())) > 0:\n",
    "        for stock in list(list(context.portfolio.stock_account.positions.keys())):\n",
    "            if stock not in stock_list:\n",
    "                order_target(stock, 0)\n",
    "    if len(stock_list) > 0:\n",
    "        for stock in stock_list:\n",
    "            if stock not in list(list(context.portfolio.stock_account.positions.keys())):\n",
    "                if len(list(context.portfolio.stock_account.positions.keys())) < context.n :\n",
    "                    number = context.n  - len(list(context.portfolio.stock_account.positions.keys()))\n",
    "                    order_value(stock,context.portfolio.stock_account.available_cash/number)\n",
    "                else: \n",
    "                    order_value(stock,context.portfolio.stock_account.available_cash)\n",
    "\n",
    "\n"
   ]
  },
  {
   "cell_type": "code",
   "execution_count": null,
   "metadata": {},
   "outputs": [],
   "source": []
  },
  {
   "cell_type": "code",
   "execution_count": null,
   "metadata": {},
   "outputs": [],
   "source": []
  }
 ],
 "metadata": {
  "kernelspec": {
   "display_name": "Python 3",
   "language": "python",
   "name": "python3"
  },
  "language_info": {
   "codemirror_mode": {
    "name": "ipython",
    "version": 3
   },
   "file_extension": ".py",
   "mimetype": "text/x-python",
   "name": "python",
   "nbconvert_exporter": "python",
   "pygments_lexer": "ipython3",
   "version": "3.5.2"
  }
 },
 "nbformat": 4,
 "nbformat_minor": 2
}
