{
 "cells": [
  {
   "cell_type": "markdown",
   "metadata": {},
   "source": [
    "## MACD技术指标交易策略"
   ]
  },
  {
   "cell_type": "code",
   "execution_count": null,
   "metadata": {},
   "outputs": [],
   "source": []
  },
  {
   "cell_type": "code",
   "execution_count": null,
   "metadata": {},
   "outputs": [],
   "source": [
    "'''\n",
    "MACD技术指标交易策略：\n",
    "macd金叉全仓买入并持有，macd死叉卖出并空仓。\n",
    "\n",
    "策略使用步骤：\n",
    "第一步：左侧策略代码编辑面板,代码第16-21行分别输入股票代码、指标参数、基准指数.\n",
    "第二步：右上角选择回测日期、账户初始资金、回测频率.ps:本策略适合每日频率运行.\n",
    "第三步：点击左上角“编译运行”白色按钮,进行快速回测,右边查看策略收益走势及运行日志.\n",
    "第四步：点击右上角“进行回测”蓝色按钮,执行回测并进入回测详情页面,查看策略交易明\n",
    "        细、历史持仓、策略风险指标等情况.\n",
    "第五步：在回测详情页面,点击右上角“开启仿真交易”蓝色按钮,策略即可在实时行情中运行,\n",
    "        打开交易信号提醒,在同花顺APP应用上实时收到策略交易信号.\n",
    "'''\n",
    "import talib\n",
    "def init(context):   \n",
    "    g.security = '002060.SZ' #输入股票代码\n",
    "    #设置MACD模型参数\n",
    "    g.Short = 12 #短周期平滑均线参数\n",
    "    g.Long = 26 #长周期平滑均线参数\n",
    "    g.M = 9 #DIFF的平滑均线参数\n",
    "    # set_benchmark('000300.SH') #设置基准指数，默认为沪深300\n",
    "    set_benchmark('002060.SZ') #设置比较基准为本股票\n",
    "    \n",
    "def handle_bar(context,bar_dict): \n",
    "    macd = get_macd(g.security)\n",
    "    if macd[-1]>0 and macd[-2]<0 and len(list(context.portfolio.stock_account.positions.keys())) == 0:\n",
    "        order_value(g.security,context.portfolio.available_cash)    \n",
    "        log.info(\"买入 %s\" % (g.security))    \n",
    "    if macd[-2]>0 and macd[-1]<0 and len(list(context.portfolio.stock_account.positions.keys())) > 0:    \n",
    "        order_target(g.security,0)    \n",
    "        log.info(\"卖出 %s\" % (g.security))\n",
    "def get_macd(stock):\n",
    "    price = history(stock, ['close'], 500, '1d', True, 'pre', is_panel=1)['close']\n",
    "    DIFF, DEA, MACD = talib.MACD(price.values,\n",
    "            fastperiod = g.Short, slowperiod = g.Long, signalperiod = g.M)\n",
    "    return MACD"
   ]
  },
  {
   "cell_type": "code",
   "execution_count": null,
   "metadata": {},
   "outputs": [],
   "source": []
  },
  {
   "cell_type": "code",
   "execution_count": null,
   "metadata": {},
   "outputs": [],
   "source": []
  }
 ],
 "metadata": {
  "kernelspec": {
   "display_name": "Python 3",
   "language": "python",
   "name": "python3"
  },
  "language_info": {
   "codemirror_mode": {
    "name": "ipython",
    "version": 3
   },
   "file_extension": ".py",
   "mimetype": "text/x-python",
   "name": "python",
   "nbconvert_exporter": "python",
   "pygments_lexer": "ipython3",
   "version": "3.5.2"
  }
 },
 "nbformat": 4,
 "nbformat_minor": 2
}
