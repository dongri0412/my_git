{
 "cells": [
  {
   "cell_type": "markdown",
   "metadata": {},
   "source": [
    "# 实践运行_布林带策略"
   ]
  },
  {
   "cell_type": "code",
   "execution_count": null,
   "metadata": {},
   "outputs": [],
   "source": []
  },
  {
   "cell_type": "code",
   "execution_count": 1,
   "metadata": {},
   "outputs": [],
   "source": [
    "from tick_trade_api import TradeAPI\n",
    "# 输入指定账户\n",
    "trade_api=TradeAPI('79855040',order_policy=MarketPolicy)\n",
    "\n",
    "source_code1 = \"\"\"\n",
    "\n",
    "# 初始化函数\n",
    "def init(context):\n",
    "    #设置Boll模型参数\n",
    "    context.timeperiod = 16 \n",
    "    context.nbdevup = 2 \n",
    "    context.nbdevdn = 2    \n",
    "    # 运作周期\n",
    "    context.runstep = 3\n",
    "    # 设置操作标的：\n",
    "    context.stockpool_x = ['002633.SZ']\n",
    "\n",
    "     # 设置初识持仓\n",
    "    set_holding_stocks(dict(zip(context.stockpool_x,[0]*len(context.stockpool_x))))\n",
    "    market_value = context.portfolio.stock_account.market_value\n",
    "    total_value = context.portfolio.stock_account.total_value\n",
    "    stocklist = list(context.portfolio.stock_account.positions)\n",
    "    print('当前持仓市值:', market_value, '持仓股票列表', stocklist, '当前账户总资金:', int(total_value))\n",
    "    print()\n",
    " \n",
    "def handle_bar(context, bar_dict):\n",
    "    # 获取当前分钟\n",
    "    time = get_datetime().strftime('%M')\n",
    "    # 循环股票\n",
    "    for stock in context.stockpool_x:\n",
    "        #print('当前股票是：', stock)\n",
    "        # 获取数据\n",
    "        df = history(stock, ['close','high','low'], 2400,'1m', True, 'pre', is_panel=1)\n",
    "        # 提取数据\n",
    "        close_price = df['close']\n",
    "        high_price = df['high']\n",
    "        low_price = df['low']\n",
    "        #print('=====',df['close'].iloc[-1], type(df['close']))\n",
    "        new_price = df['close'].iloc[-1]\n",
    "        \n",
    "        # 导入Python-talib库\n",
    "        import talib\n",
    "        import numpy as np\n",
    "        # 计算指标，获取BOLL值\n",
    "        upperband, middleband, lowerband = talib.BBANDS(close_price.values, timeperiod=context.timeperiod, nbdevup=context.nbdevup, nbdevdn=context.nbdevdn)\n",
    "        T_value = upperband-lowerband\n",
    "        T_value = T_value[19:]\n",
    "        mean = np.mean(T_value)\n",
    "        new = T_value[-1]\n",
    "        \n",
    "        if T_value[-2] >T_value[-1] and new<mean and new_price<lowerband[-1]:\n",
    "            print('当前处于相对低点{}'.format(new_price))\n",
    "            order_percent(stock,0.5)\n",
    "        elif T_value[-2] >T_value[-1] and new<mean and new_price>upperband[-1]:\n",
    "            print('当前处于相对高点{}'.format(new_price))\n",
    "            order_percent(stock,-0.5)\n",
    "            \n",
    "# 收盘后运行函数,用于储存自定义参数、全局变量,执行盘后选股等\n",
    "def after_trading(context):\n",
    "    market_value = context.portfolio.stock_account.market_value\n",
    "    total_value = context.portfolio.stock_account.total_value\n",
    "    stocklist = list(context.portfolio.stock_account.positions)\n",
    "    print('当前持仓市值:', market_value, '持仓股票列表', stocklist, '当前账户总资金:', int(total_value))\n",
    "    log.info('一天结束')            \n",
    "\n",
    "\"\"\"\n",
    "\n",
    "\n",
    "# 系统重置\n",
    "try:\n",
    "    import shutil\n",
    "    shutil.rmtree('persist/研究环境策略')\n",
    "except:\n",
    "    pass\n",
    "\n",
    "# 模拟运行\n",
    "#rtrade = research_trade('研究环境策略', source_code1, capital_base=float(50000), frequency='MINUTE', trade_api=trade_api)#trade_api可传入List[TradeAPI]，实现多账户交易\n",
    "\n",
    "\n",
    "# 回测运行\n",
    "# research_strategy(source_code, start_date=None, end_date=None, capital_base=100000, frequency='DAILY', stock_market='STOCK', benchmark=None)\n",
    "#research_strategy(source_code1, start_date='20180901', end_date='20220607', capital_base=float(50000), frequency='MINUTE', stock_market='STOCK', benchmark=None)\n",
    "\n",
    "\n"
   ]
  },
  {
   "cell_type": "code",
   "execution_count": 2,
   "metadata": {},
   "outputs": [
    {
     "name": "stderr",
     "output_type": "stream",
     "text": [
      "2022-06-15 14:40:07.344907 - INFO - 开始research_trade运行...\n",
      "2022-06-15 00:00:00.000000 - INFO - 初始化002633.SZ持仓0股\n",
      "2022-06-15 00:00:00.000000 - INFO - 当前持仓市值: 0.0 持仓股票列表 ['002633.SZ'] 当前账户总资金: 50000\n",
      "2022-06-15 00:00:00.000000 - INFO - \n",
      "2022-06-15 15:30:00.000000 - INFO - 当前持仓市值: 0 持仓股票列表 [] 当前账户总资金: 50000\n",
      "2022-06-15 15:30:00.000000 - INFO - 一天结束\n",
      "2022-06-15 15:30:00.000000 - INFO - 结束research_trade运行...\n"
     ]
    }
   ],
   "source": [
    "# 模拟运行\n",
    "rtrade = research_trade('研究环境策略', source_code1, capital_base=float(50000), frequency='MINUTE', trade_api=trade_api)#trade_api可传入List[TradeAPI]，实现多账户交易\n"
   ]
  },
  {
   "cell_type": "code",
   "execution_count": null,
   "metadata": {},
   "outputs": [],
   "source": []
  }
 ],
 "metadata": {
  "kernelspec": {
   "display_name": "Python 3",
   "language": "python",
   "name": "python3"
  },
  "language_info": {
   "codemirror_mode": {
    "name": "ipython",
    "version": 3
   },
   "file_extension": ".py",
   "mimetype": "text/x-python",
   "name": "python",
   "nbconvert_exporter": "python",
   "pygments_lexer": "ipython3",
   "version": "3.5.2"
  }
 },
 "nbformat": 4,
 "nbformat_minor": 2
}
