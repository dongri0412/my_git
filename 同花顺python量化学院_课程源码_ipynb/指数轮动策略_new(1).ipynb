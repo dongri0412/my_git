{
 "cells": [
  {
   "cell_type": "markdown",
   "metadata": {},
   "source": [
    "# 指数轮动策略new"
   ]
  },
  {
   "cell_type": "code",
   "execution_count": null,
   "metadata": {},
   "outputs": [],
   "source": []
  },
  {
   "cell_type": "code",
   "execution_count": null,
   "metadata": {},
   "outputs": [],
   "source": [
    "from tick_trade_api import TradeAPI\n",
    "# 输入指定账户\n",
    "# trade_api=TradeAPI('376000093011',order_policy=MarketPolicy)\n",
    "trade_api=TradeAPI('79644908',order_policy=MarketPolicy)\n"
   ]
  },
  {
   "cell_type": "code",
   "execution_count": null,
   "metadata": {},
   "outputs": [],
   "source": [
    "# 指数轮动策略\n",
    "import pandas as pd\n",
    "#初始化函数\n",
    "def init(context):   \n",
    "    # 按月交易第一个交易日\n",
    "    run_monthly(trade,date_rule=1)\n",
    "    # 输入需要交易的ETF\n",
    "    context.security = ['159901.OF', # 深证100ETF\n",
    "                        '510050.OF', # 上证50ETF\n",
    "                        '159915.OF', # 创业板ETF\n",
    "                        '510300.OF', # 沪深300ETF\n",
    "                        '510500.OF', # 中证500ETF\n",
    "                        '510180.OF', # 上证180ETF\n",
    "                        '159902.OF', # 中小板100ETF\n",
    "                        '159905.OF', # 深红利ETF\n",
    "                        ]\n",
    "    # 指数强度系数（天）\n",
    "    context.N = 20\n",
    "#交易函数\n",
    "def trade(context,bar_dict):\n",
    "    # 获取指数行情数据\n",
    "    price = history(context.security,['close'],context.N,'1d',True,'pre',is_panel=1)\n",
    "    # 获取收盘价\n",
    "    df = price['close']\n",
    "    # 计算强弱\n",
    "    indexreturn = df.iloc[-1]/df.iloc[0]-1\n",
    "    # 排序\n",
    "    indexreturn = indexreturn.sort_values()\n",
    "    # 选取最强指数及强弱值\n",
    "    index_T = indexreturn.iloc[-1]\n",
    "    index = list(indexreturn.index)[-1]\n",
    "    \n",
    "    if index_T>0:\n",
    "        # 获取当前持仓\n",
    "        holdindex = list(context.portfolio.stock_account.positions.keys())\n",
    "        if len(holdindex)<1:\n",
    "            # 买入\n",
    "            order_target_percent(index,1)\n",
    "            print('最强指数{},强弱度{},买入'.format(index,round(index_T,4)))\n",
    "        else:\n",
    "            for i in holdindex:\n",
    "                if i == index:\n",
    "                    print('==> i == index')\n",
    "                else:\n",
    "                    # 清仓\n",
    "                    order_target(i, 0)\n",
    "                    # 买入\n",
    "                    order_target_percent(index,1)\n",
    "                    print('最强指数{},强弱度{},买入'.format(index,round(index_T,4)))\n",
    "            \n",
    "#设置风控\n",
    "def handle_bar(context,bar_dict):\n",
    "    # 获取指数行情数据\n",
    "    price = history(context.security,['close'],context.N,'1d',True,'pre',is_panel=1)\n",
    "    # 获取收盘价\n",
    "    df = price['close']\n",
    "    # 计算强弱\n",
    "    indexreturn = df.iloc[-1]/df.iloc[0]-1\n",
    "    # 排序\n",
    "    indexreturn = indexreturn.sort_values()\n",
    "    # 选取最强指数及强弱值\n",
    "    index_T = indexreturn.iloc[-1]\n",
    "    index = list(indexreturn.index)[-1]\n",
    "    # 获取当前持仓\n",
    "    holdindex = list(context.portfolio.stock_account.positions.keys())\n",
    "    # 择时判定\n",
    "    if index_T<=0:\n",
    "        for i in holdindex:\n",
    "            # 清仓\n",
    "            order_target(i, 0)\n",
    "            # 打印\n",
    "            print('最强指数强弱度{},清仓'.format(index_T))\n",
    "            \n",
    "            "
   ]
  },
  {
   "cell_type": "code",
   "execution_count": null,
   "metadata": {},
   "outputs": [],
   "source": [
    "# 系统重置\n",
    "try:\n",
    "    import shutil\n",
    "    shutil.rmtree('persist/研究环境策略')\n",
    "except:\n",
    "    pass"
   ]
  },
  {
   "cell_type": "code",
   "execution_count": null,
   "metadata": {},
   "outputs": [],
   "source": [
    "# 模拟运行\n",
    "#rtrade = research_trade('研究环境策略', source_code, capital_base=float(10000000), frequency='MINUTE', trade_api=trade_api)#trade_api可传入List[TradeAPI]，实现多账户交易\n"
   ]
  },
  {
   "cell_type": "code",
   "execution_count": null,
   "metadata": {},
   "outputs": [],
   "source": [
    "# 回测运行\n",
    "# research_strategy(source_code, start_date=None, end_date=None, capital_base=100000, frequency='DAILY', stock_market='STOCK', benchmark=None)\n",
    "#research_strategy(source_code, start_date='20191230', end_date='20220527', capital_base=float(1000000), frequency='MINUTE', stock_market='STOCK', benchmark=None)\n"
   ]
  },
  {
   "cell_type": "code",
   "execution_count": null,
   "metadata": {},
   "outputs": [],
   "source": []
  },
  {
   "cell_type": "code",
   "execution_count": null,
   "metadata": {},
   "outputs": [],
   "source": []
  }
 ],
 "metadata": {
  "kernelspec": {
   "display_name": "Python 3",
   "language": "python",
   "name": "python3"
  },
  "language_info": {
   "codemirror_mode": {
    "name": "ipython",
    "version": 3
   },
   "file_extension": ".py",
   "mimetype": "text/x-python",
   "name": "python",
   "nbconvert_exporter": "python",
   "pygments_lexer": "ipython3",
   "version": "3.5.2"
  }
 },
 "nbformat": 4,
 "nbformat_minor": 2
}
